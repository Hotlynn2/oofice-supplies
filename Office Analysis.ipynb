{
 "cells": [
  {
   "cell_type": "code",
   "execution_count": 1,
   "id": "b89e6e70",
   "metadata": {},
   "outputs": [],
   "source": [
    "import pandas as pd\n",
    "import numpy as np\n",
    "import matplotlib.pyplot as plt\n",
    "from sklearn.preprocessing import StandardScaler\n",
    "from sklearn.linear_model import LinearRegression\n",
    "from sklearn.ensemble import GradientBoostingRegressor\n",
    "from sklearn.model_selection import train_test_split\n",
    "from sklearn.metrics import mean_squared_error"
   ]
  },
  {
   "cell_type": "code",
   "execution_count": 2,
   "id": "84092932",
   "metadata": {},
   "outputs": [
    {
     "data": {
      "text/html": [
       "<div>\n",
       "<style scoped>\n",
       "    .dataframe tbody tr th:only-of-type {\n",
       "        vertical-align: middle;\n",
       "    }\n",
       "\n",
       "    .dataframe tbody tr th {\n",
       "        vertical-align: top;\n",
       "    }\n",
       "\n",
       "    .dataframe thead th {\n",
       "        text-align: right;\n",
       "    }\n",
       "</style>\n",
       "<table border=\"1\" class=\"dataframe\">\n",
       "  <thead>\n",
       "    <tr style=\"text-align: right;\">\n",
       "      <th></th>\n",
       "      <th>Order ID</th>\n",
       "      <th>Order Date</th>\n",
       "      <th>Ship Mode</th>\n",
       "      <th>Region</th>\n",
       "      <th>Product ID</th>\n",
       "      <th>Category</th>\n",
       "      <th>Sub-Category</th>\n",
       "      <th>Product Name</th>\n",
       "      <th>Sales</th>\n",
       "      <th>Quantity</th>\n",
       "      <th>Discount</th>\n",
       "      <th>Profit</th>\n",
       "    </tr>\n",
       "  </thead>\n",
       "  <tbody>\n",
       "    <tr>\n",
       "      <th>0</th>\n",
       "      <td>CA-2015-110870</td>\n",
       "      <td>12/12/2015</td>\n",
       "      <td>First Class</td>\n",
       "      <td>West</td>\n",
       "      <td>TEC-AC-10002926</td>\n",
       "      <td>Technology</td>\n",
       "      <td>Accessories</td>\n",
       "      <td>Logitech Wireless Marathon Mouse M705</td>\n",
       "      <td>299.940</td>\n",
       "      <td>6</td>\n",
       "      <td>0.0</td>\n",
       "      <td>NaN</td>\n",
       "    </tr>\n",
       "    <tr>\n",
       "      <th>1</th>\n",
       "      <td>CA-2015-110870</td>\n",
       "      <td>12/12/2015</td>\n",
       "      <td>First Class</td>\n",
       "      <td>West</td>\n",
       "      <td>OFF-SU-10001225</td>\n",
       "      <td>Office Supplies</td>\n",
       "      <td>Supplies</td>\n",
       "      <td>Staple remover</td>\n",
       "      <td>25.760</td>\n",
       "      <td>7</td>\n",
       "      <td>0.0</td>\n",
       "      <td>NaN</td>\n",
       "    </tr>\n",
       "    <tr>\n",
       "      <th>2</th>\n",
       "      <td>CA-2014-143210</td>\n",
       "      <td>01/12/2014</td>\n",
       "      <td>First Class</td>\n",
       "      <td>East</td>\n",
       "      <td>TEC-PH-10004434</td>\n",
       "      <td>Technology</td>\n",
       "      <td>Phones</td>\n",
       "      <td>Cisco IP Phone 7961G VoIP phone - Dark gray</td>\n",
       "      <td>271.900</td>\n",
       "      <td>2</td>\n",
       "      <td>0.0</td>\n",
       "      <td>NaN</td>\n",
       "    </tr>\n",
       "    <tr>\n",
       "      <th>3</th>\n",
       "      <td>CA-2014-143210</td>\n",
       "      <td>01/12/2014</td>\n",
       "      <td>First Class</td>\n",
       "      <td>East</td>\n",
       "      <td>FUR-FU-10003878</td>\n",
       "      <td>Furniture</td>\n",
       "      <td>Furnishings</td>\n",
       "      <td>Linden 10\" Round Wall Clock, Black</td>\n",
       "      <td>45.840</td>\n",
       "      <td>3</td>\n",
       "      <td>0.0</td>\n",
       "      <td>NaN</td>\n",
       "    </tr>\n",
       "    <tr>\n",
       "      <th>4</th>\n",
       "      <td>CA-2014-143210</td>\n",
       "      <td>01/12/2014</td>\n",
       "      <td>First Class</td>\n",
       "      <td>East</td>\n",
       "      <td>FUR-FU-10002268</td>\n",
       "      <td>Furniture</td>\n",
       "      <td>Furnishings</td>\n",
       "      <td>Ultra Door Push Plate</td>\n",
       "      <td>9.820</td>\n",
       "      <td>2</td>\n",
       "      <td>0.0</td>\n",
       "      <td>NaN</td>\n",
       "    </tr>\n",
       "    <tr>\n",
       "      <th>...</th>\n",
       "      <td>...</td>\n",
       "      <td>...</td>\n",
       "      <td>...</td>\n",
       "      <td>...</td>\n",
       "      <td>...</td>\n",
       "      <td>...</td>\n",
       "      <td>...</td>\n",
       "      <td>...</td>\n",
       "      <td>...</td>\n",
       "      <td>...</td>\n",
       "      <td>...</td>\n",
       "      <td>...</td>\n",
       "    </tr>\n",
       "    <tr>\n",
       "      <th>9988</th>\n",
       "      <td>US-2015-165743</td>\n",
       "      <td>20/11/2015</td>\n",
       "      <td>Second Class</td>\n",
       "      <td>West</td>\n",
       "      <td>OFF-BI-10001758</td>\n",
       "      <td>Office Supplies</td>\n",
       "      <td>Binders</td>\n",
       "      <td>Wilson Jones 14 Line Acrylic Coated Pressboard...</td>\n",
       "      <td>9.612</td>\n",
       "      <td>6</td>\n",
       "      <td>0.7</td>\n",
       "      <td>-7.3692</td>\n",
       "    </tr>\n",
       "    <tr>\n",
       "      <th>9989</th>\n",
       "      <td>US-2017-105998</td>\n",
       "      <td>03/11/2017</td>\n",
       "      <td>First Class</td>\n",
       "      <td>West</td>\n",
       "      <td>TEC-AC-10004469</td>\n",
       "      <td>Technology</td>\n",
       "      <td>Accessories</td>\n",
       "      <td>Microsoft Sculpt Comfort Mouse</td>\n",
       "      <td>199.750</td>\n",
       "      <td>5</td>\n",
       "      <td>0.0</td>\n",
       "      <td>87.8900</td>\n",
       "    </tr>\n",
       "    <tr>\n",
       "      <th>9990</th>\n",
       "      <td>US-2017-105998</td>\n",
       "      <td>03/11/2017</td>\n",
       "      <td>First Class</td>\n",
       "      <td>West</td>\n",
       "      <td>FUR-TA-10001095</td>\n",
       "      <td>Furniture</td>\n",
       "      <td>Tables</td>\n",
       "      <td>Chromcraft Round Conference Tables</td>\n",
       "      <td>1673.184</td>\n",
       "      <td>12</td>\n",
       "      <td>0.2</td>\n",
       "      <td>20.9148</td>\n",
       "    </tr>\n",
       "    <tr>\n",
       "      <th>9991</th>\n",
       "      <td>US-2014-148194</td>\n",
       "      <td>04/05/2014</td>\n",
       "      <td>First Class</td>\n",
       "      <td>West</td>\n",
       "      <td>FUR-FU-10001852</td>\n",
       "      <td>Furniture</td>\n",
       "      <td>Furnishings</td>\n",
       "      <td>Eldon Regeneration Recycled Desk Accessories, ...</td>\n",
       "      <td>12.180</td>\n",
       "      <td>7</td>\n",
       "      <td>0.0</td>\n",
       "      <td>3.8976</td>\n",
       "    </tr>\n",
       "    <tr>\n",
       "      <th>9992</th>\n",
       "      <td>US-2014-148194</td>\n",
       "      <td>04/05/2014</td>\n",
       "      <td>First Class</td>\n",
       "      <td>West</td>\n",
       "      <td>OFF-AP-10000696</td>\n",
       "      <td>Office Supplies</td>\n",
       "      <td>Appliances</td>\n",
       "      <td>Holmes Odor Grabber</td>\n",
       "      <td>57.680</td>\n",
       "      <td>4</td>\n",
       "      <td>0.0</td>\n",
       "      <td>19.0344</td>\n",
       "    </tr>\n",
       "  </tbody>\n",
       "</table>\n",
       "<p>9993 rows × 12 columns</p>\n",
       "</div>"
      ],
      "text/plain": [
       "            Order ID  Order Date     Ship Mode Region       Product ID  \\\n",
       "0     CA-2015-110870  12/12/2015   First Class   West  TEC-AC-10002926   \n",
       "1     CA-2015-110870  12/12/2015   First Class   West  OFF-SU-10001225   \n",
       "2     CA-2014-143210  01/12/2014   First Class   East  TEC-PH-10004434   \n",
       "3     CA-2014-143210  01/12/2014   First Class   East  FUR-FU-10003878   \n",
       "4     CA-2014-143210  01/12/2014   First Class   East  FUR-FU-10002268   \n",
       "...              ...         ...           ...    ...              ...   \n",
       "9988  US-2015-165743  20/11/2015  Second Class   West  OFF-BI-10001758   \n",
       "9989  US-2017-105998  03/11/2017   First Class   West  TEC-AC-10004469   \n",
       "9990  US-2017-105998  03/11/2017   First Class   West  FUR-TA-10001095   \n",
       "9991  US-2014-148194  04/05/2014   First Class   West  FUR-FU-10001852   \n",
       "9992  US-2014-148194  04/05/2014   First Class   West  OFF-AP-10000696   \n",
       "\n",
       "             Category Sub-Category  \\\n",
       "0          Technology  Accessories   \n",
       "1     Office Supplies     Supplies   \n",
       "2          Technology       Phones   \n",
       "3           Furniture  Furnishings   \n",
       "4           Furniture  Furnishings   \n",
       "...               ...          ...   \n",
       "9988  Office Supplies      Binders   \n",
       "9989       Technology  Accessories   \n",
       "9990        Furniture       Tables   \n",
       "9991        Furniture  Furnishings   \n",
       "9992  Office Supplies   Appliances   \n",
       "\n",
       "                                           Product Name     Sales  Quantity  \\\n",
       "0                 Logitech Wireless Marathon Mouse M705   299.940         6   \n",
       "1                                        Staple remover    25.760         7   \n",
       "2           Cisco IP Phone 7961G VoIP phone - Dark gray   271.900         2   \n",
       "3                    Linden 10\" Round Wall Clock, Black    45.840         3   \n",
       "4                                 Ultra Door Push Plate     9.820         2   \n",
       "...                                                 ...       ...       ...   \n",
       "9988  Wilson Jones 14 Line Acrylic Coated Pressboard...     9.612         6   \n",
       "9989                     Microsoft Sculpt Comfort Mouse   199.750         5   \n",
       "9990                 Chromcraft Round Conference Tables  1673.184        12   \n",
       "9991  Eldon Regeneration Recycled Desk Accessories, ...    12.180         7   \n",
       "9992                                Holmes Odor Grabber    57.680         4   \n",
       "\n",
       "      Discount   Profit  \n",
       "0          0.0      NaN  \n",
       "1          0.0      NaN  \n",
       "2          0.0      NaN  \n",
       "3          0.0      NaN  \n",
       "4          0.0      NaN  \n",
       "...        ...      ...  \n",
       "9988       0.7  -7.3692  \n",
       "9989       0.0  87.8900  \n",
       "9990       0.2  20.9148  \n",
       "9991       0.0   3.8976  \n",
       "9992       0.0  19.0344  \n",
       "\n",
       "[9993 rows x 12 columns]"
      ]
     },
     "execution_count": 2,
     "metadata": {},
     "output_type": "execute_result"
    }
   ],
   "source": [
    "office_data = pd.read_csv('office_supplies.csv')\n",
    "office_data"
   ]
  },
  {
   "cell_type": "code",
   "execution_count": 3,
   "id": "482888e5",
   "metadata": {},
   "outputs": [
    {
     "name": "stdout",
     "output_type": "stream",
     "text": [
      "<class 'pandas.core.frame.DataFrame'>\n",
      "RangeIndex: 9993 entries, 0 to 9992\n",
      "Data columns (total 12 columns):\n",
      " #   Column        Non-Null Count  Dtype  \n",
      "---  ------        --------------  -----  \n",
      " 0   Order ID      9993 non-null   object \n",
      " 1   Order Date    9993 non-null   object \n",
      " 2   Ship Mode     9993 non-null   object \n",
      " 3   Region        9993 non-null   object \n",
      " 4   Product ID    9993 non-null   object \n",
      " 5   Category      9993 non-null   object \n",
      " 6   Sub-Category  9993 non-null   object \n",
      " 7   Product Name  9993 non-null   object \n",
      " 8   Sales         9993 non-null   float64\n",
      " 9   Quantity      9993 non-null   int64  \n",
      " 10  Discount      9993 non-null   float64\n",
      " 11  Profit        8000 non-null   float64\n",
      "dtypes: float64(3), int64(1), object(8)\n",
      "memory usage: 937.0+ KB\n"
     ]
    }
   ],
   "source": [
    "office_data.info()"
   ]
  },
  {
   "cell_type": "markdown",
   "id": "d0e0d058",
   "metadata": {},
   "source": [
    "#### Quick ML to predict Null Profit"
   ]
  },
  {
   "cell_type": "code",
   "execution_count": 4,
   "id": "096c8d2a",
   "metadata": {},
   "outputs": [],
   "source": [
    "null_values = office_data[office_data.isnull().any(axis=1)]"
   ]
  },
  {
   "cell_type": "code",
   "execution_count": 5,
   "id": "14172238",
   "metadata": {},
   "outputs": [
    {
     "data": {
      "text/plain": [
       "Index(['Order ID', 'Order Date', 'Ship Mode', 'Region', 'Product ID',\n",
       "       'Category', 'Sub-Category', 'Product Name', 'Sales', 'Quantity',\n",
       "       'Discount', 'Profit'],\n",
       "      dtype='object')"
      ]
     },
     "execution_count": 5,
     "metadata": {},
     "output_type": "execute_result"
    }
   ],
   "source": [
    "non_null_values = office_data[pd.notnull(office_data.Profit)]\n",
    "non_null_values.columns"
   ]
  },
  {
   "cell_type": "code",
   "execution_count": 6,
   "id": "47fa687b",
   "metadata": {},
   "outputs": [
    {
     "data": {
      "text/html": [
       "<div>\n",
       "<style scoped>\n",
       "    .dataframe tbody tr th:only-of-type {\n",
       "        vertical-align: middle;\n",
       "    }\n",
       "\n",
       "    .dataframe tbody tr th {\n",
       "        vertical-align: top;\n",
       "    }\n",
       "\n",
       "    .dataframe thead th {\n",
       "        text-align: right;\n",
       "    }\n",
       "</style>\n",
       "<table border=\"1\" class=\"dataframe\">\n",
       "  <thead>\n",
       "    <tr style=\"text-align: right;\">\n",
       "      <th></th>\n",
       "      <th>Ship Mode</th>\n",
       "      <th>Region</th>\n",
       "      <th>Category</th>\n",
       "      <th>Sub-Category</th>\n",
       "      <th>Sales</th>\n",
       "      <th>Quantity</th>\n",
       "      <th>Discount</th>\n",
       "      <th>Profit</th>\n",
       "    </tr>\n",
       "  </thead>\n",
       "  <tbody>\n",
       "    <tr>\n",
       "      <th>1993</th>\n",
       "      <td>Second Class</td>\n",
       "      <td>South</td>\n",
       "      <td>Furniture</td>\n",
       "      <td>Bookcases</td>\n",
       "      <td>261.9600</td>\n",
       "      <td>2</td>\n",
       "      <td>0.00</td>\n",
       "      <td>41.9136</td>\n",
       "    </tr>\n",
       "    <tr>\n",
       "      <th>1994</th>\n",
       "      <td>Second Class</td>\n",
       "      <td>South</td>\n",
       "      <td>Furniture</td>\n",
       "      <td>Chairs</td>\n",
       "      <td>731.9400</td>\n",
       "      <td>3</td>\n",
       "      <td>0.00</td>\n",
       "      <td>219.5820</td>\n",
       "    </tr>\n",
       "    <tr>\n",
       "      <th>1995</th>\n",
       "      <td>Second Class</td>\n",
       "      <td>West</td>\n",
       "      <td>Office Supplies</td>\n",
       "      <td>Labels</td>\n",
       "      <td>14.6200</td>\n",
       "      <td>2</td>\n",
       "      <td>0.00</td>\n",
       "      <td>6.8714</td>\n",
       "    </tr>\n",
       "    <tr>\n",
       "      <th>1996</th>\n",
       "      <td>Standard Class</td>\n",
       "      <td>South</td>\n",
       "      <td>Furniture</td>\n",
       "      <td>Tables</td>\n",
       "      <td>957.5775</td>\n",
       "      <td>5</td>\n",
       "      <td>0.45</td>\n",
       "      <td>-383.0310</td>\n",
       "    </tr>\n",
       "    <tr>\n",
       "      <th>1997</th>\n",
       "      <td>Standard Class</td>\n",
       "      <td>South</td>\n",
       "      <td>Office Supplies</td>\n",
       "      <td>Storage</td>\n",
       "      <td>22.3680</td>\n",
       "      <td>2</td>\n",
       "      <td>0.20</td>\n",
       "      <td>2.5164</td>\n",
       "    </tr>\n",
       "    <tr>\n",
       "      <th>...</th>\n",
       "      <td>...</td>\n",
       "      <td>...</td>\n",
       "      <td>...</td>\n",
       "      <td>...</td>\n",
       "      <td>...</td>\n",
       "      <td>...</td>\n",
       "      <td>...</td>\n",
       "      <td>...</td>\n",
       "    </tr>\n",
       "    <tr>\n",
       "      <th>9988</th>\n",
       "      <td>Second Class</td>\n",
       "      <td>West</td>\n",
       "      <td>Office Supplies</td>\n",
       "      <td>Binders</td>\n",
       "      <td>9.6120</td>\n",
       "      <td>6</td>\n",
       "      <td>0.70</td>\n",
       "      <td>-7.3692</td>\n",
       "    </tr>\n",
       "    <tr>\n",
       "      <th>9989</th>\n",
       "      <td>First Class</td>\n",
       "      <td>West</td>\n",
       "      <td>Technology</td>\n",
       "      <td>Accessories</td>\n",
       "      <td>199.7500</td>\n",
       "      <td>5</td>\n",
       "      <td>0.00</td>\n",
       "      <td>87.8900</td>\n",
       "    </tr>\n",
       "    <tr>\n",
       "      <th>9990</th>\n",
       "      <td>First Class</td>\n",
       "      <td>West</td>\n",
       "      <td>Furniture</td>\n",
       "      <td>Tables</td>\n",
       "      <td>1673.1840</td>\n",
       "      <td>12</td>\n",
       "      <td>0.20</td>\n",
       "      <td>20.9148</td>\n",
       "    </tr>\n",
       "    <tr>\n",
       "      <th>9991</th>\n",
       "      <td>First Class</td>\n",
       "      <td>West</td>\n",
       "      <td>Furniture</td>\n",
       "      <td>Furnishings</td>\n",
       "      <td>12.1800</td>\n",
       "      <td>7</td>\n",
       "      <td>0.00</td>\n",
       "      <td>3.8976</td>\n",
       "    </tr>\n",
       "    <tr>\n",
       "      <th>9992</th>\n",
       "      <td>First Class</td>\n",
       "      <td>West</td>\n",
       "      <td>Office Supplies</td>\n",
       "      <td>Appliances</td>\n",
       "      <td>57.6800</td>\n",
       "      <td>4</td>\n",
       "      <td>0.00</td>\n",
       "      <td>19.0344</td>\n",
       "    </tr>\n",
       "  </tbody>\n",
       "</table>\n",
       "<p>8000 rows × 8 columns</p>\n",
       "</div>"
      ],
      "text/plain": [
       "           Ship Mode Region         Category Sub-Category      Sales  \\\n",
       "1993    Second Class  South        Furniture    Bookcases   261.9600   \n",
       "1994    Second Class  South        Furniture       Chairs   731.9400   \n",
       "1995    Second Class   West  Office Supplies       Labels    14.6200   \n",
       "1996  Standard Class  South        Furniture       Tables   957.5775   \n",
       "1997  Standard Class  South  Office Supplies      Storage    22.3680   \n",
       "...              ...    ...              ...          ...        ...   \n",
       "9988    Second Class   West  Office Supplies      Binders     9.6120   \n",
       "9989     First Class   West       Technology  Accessories   199.7500   \n",
       "9990     First Class   West        Furniture       Tables  1673.1840   \n",
       "9991     First Class   West        Furniture  Furnishings    12.1800   \n",
       "9992     First Class   West  Office Supplies   Appliances    57.6800   \n",
       "\n",
       "      Quantity  Discount    Profit  \n",
       "1993         2      0.00   41.9136  \n",
       "1994         3      0.00  219.5820  \n",
       "1995         2      0.00    6.8714  \n",
       "1996         5      0.45 -383.0310  \n",
       "1997         2      0.20    2.5164  \n",
       "...        ...       ...       ...  \n",
       "9988         6      0.70   -7.3692  \n",
       "9989         5      0.00   87.8900  \n",
       "9990        12      0.20   20.9148  \n",
       "9991         7      0.00    3.8976  \n",
       "9992         4      0.00   19.0344  \n",
       "\n",
       "[8000 rows x 8 columns]"
      ]
     },
     "execution_count": 6,
     "metadata": {},
     "output_type": "execute_result"
    }
   ],
   "source": [
    "ml_non_null_values = non_null_values.drop(['Order ID', 'Order Date', 'Product ID', 'Product Name'], axis = 1)\n",
    "ml_non_null_values"
   ]
  },
  {
   "cell_type": "code",
   "execution_count": 7,
   "id": "049977b9",
   "metadata": {},
   "outputs": [],
   "source": [
    "cleanup_nums = {\"Ship Mode\": {\"Standard Class\": 0, \"Second Class\": 1, \"First Class\": 2, \"Same Day\": 3},\n",
    "                \"Region\": {\"West\": 0, \"East\": 1, \"Central\": 2, \"South\": 3},\n",
    "                \"Category\": {\"Office Supplies\": 0, \"Furniture\": 1, \"Technology\": 2},\n",
    "                \"Sub-Category\": {\"Binders\": 0, \"Paper\": 1, \"Furnishings\": 2, \"Phones\": 3,\n",
    "                              \"Storage\": 4, \"Art\": 5, \"Accessories\": 6, \"Chairs\": 7,\n",
    "                              \"Appliances\": 8, \"Envelopes\": 9, \"Tables\": 10, \"Bookcases\": 11, \n",
    "                                 \"Fasteners\": 12, \"Supplies\": 13, \"Labels\": 14, \"Machines\": 15, \"Copiers\": 16} \n",
    "               }\n",
    "ml_non_null_values = ml_non_null_values.replace(cleanup_nums)"
   ]
  },
  {
   "cell_type": "code",
   "execution_count": 8,
   "id": "a4a9984d",
   "metadata": {},
   "outputs": [
    {
     "data": {
      "text/html": [
       "<div>\n",
       "<style scoped>\n",
       "    .dataframe tbody tr th:only-of-type {\n",
       "        vertical-align: middle;\n",
       "    }\n",
       "\n",
       "    .dataframe tbody tr th {\n",
       "        vertical-align: top;\n",
       "    }\n",
       "\n",
       "    .dataframe thead th {\n",
       "        text-align: right;\n",
       "    }\n",
       "</style>\n",
       "<table border=\"1\" class=\"dataframe\">\n",
       "  <thead>\n",
       "    <tr style=\"text-align: right;\">\n",
       "      <th></th>\n",
       "      <th>Ship Mode</th>\n",
       "      <th>Region</th>\n",
       "      <th>Category</th>\n",
       "      <th>Sub-Category</th>\n",
       "      <th>Sales</th>\n",
       "      <th>Quantity</th>\n",
       "      <th>Discount</th>\n",
       "      <th>Profit</th>\n",
       "    </tr>\n",
       "  </thead>\n",
       "  <tbody>\n",
       "    <tr>\n",
       "      <th>1993</th>\n",
       "      <td>1</td>\n",
       "      <td>3</td>\n",
       "      <td>1</td>\n",
       "      <td>11</td>\n",
       "      <td>261.9600</td>\n",
       "      <td>2</td>\n",
       "      <td>0.00</td>\n",
       "      <td>41.9136</td>\n",
       "    </tr>\n",
       "    <tr>\n",
       "      <th>1994</th>\n",
       "      <td>1</td>\n",
       "      <td>3</td>\n",
       "      <td>1</td>\n",
       "      <td>7</td>\n",
       "      <td>731.9400</td>\n",
       "      <td>3</td>\n",
       "      <td>0.00</td>\n",
       "      <td>219.5820</td>\n",
       "    </tr>\n",
       "    <tr>\n",
       "      <th>1995</th>\n",
       "      <td>1</td>\n",
       "      <td>0</td>\n",
       "      <td>0</td>\n",
       "      <td>14</td>\n",
       "      <td>14.6200</td>\n",
       "      <td>2</td>\n",
       "      <td>0.00</td>\n",
       "      <td>6.8714</td>\n",
       "    </tr>\n",
       "    <tr>\n",
       "      <th>1996</th>\n",
       "      <td>0</td>\n",
       "      <td>3</td>\n",
       "      <td>1</td>\n",
       "      <td>10</td>\n",
       "      <td>957.5775</td>\n",
       "      <td>5</td>\n",
       "      <td>0.45</td>\n",
       "      <td>-383.0310</td>\n",
       "    </tr>\n",
       "    <tr>\n",
       "      <th>1997</th>\n",
       "      <td>0</td>\n",
       "      <td>3</td>\n",
       "      <td>0</td>\n",
       "      <td>4</td>\n",
       "      <td>22.3680</td>\n",
       "      <td>2</td>\n",
       "      <td>0.20</td>\n",
       "      <td>2.5164</td>\n",
       "    </tr>\n",
       "    <tr>\n",
       "      <th>...</th>\n",
       "      <td>...</td>\n",
       "      <td>...</td>\n",
       "      <td>...</td>\n",
       "      <td>...</td>\n",
       "      <td>...</td>\n",
       "      <td>...</td>\n",
       "      <td>...</td>\n",
       "      <td>...</td>\n",
       "    </tr>\n",
       "    <tr>\n",
       "      <th>9988</th>\n",
       "      <td>1</td>\n",
       "      <td>0</td>\n",
       "      <td>0</td>\n",
       "      <td>0</td>\n",
       "      <td>9.6120</td>\n",
       "      <td>6</td>\n",
       "      <td>0.70</td>\n",
       "      <td>-7.3692</td>\n",
       "    </tr>\n",
       "    <tr>\n",
       "      <th>9989</th>\n",
       "      <td>2</td>\n",
       "      <td>0</td>\n",
       "      <td>2</td>\n",
       "      <td>6</td>\n",
       "      <td>199.7500</td>\n",
       "      <td>5</td>\n",
       "      <td>0.00</td>\n",
       "      <td>87.8900</td>\n",
       "    </tr>\n",
       "    <tr>\n",
       "      <th>9990</th>\n",
       "      <td>2</td>\n",
       "      <td>0</td>\n",
       "      <td>1</td>\n",
       "      <td>10</td>\n",
       "      <td>1673.1840</td>\n",
       "      <td>12</td>\n",
       "      <td>0.20</td>\n",
       "      <td>20.9148</td>\n",
       "    </tr>\n",
       "    <tr>\n",
       "      <th>9991</th>\n",
       "      <td>2</td>\n",
       "      <td>0</td>\n",
       "      <td>1</td>\n",
       "      <td>2</td>\n",
       "      <td>12.1800</td>\n",
       "      <td>7</td>\n",
       "      <td>0.00</td>\n",
       "      <td>3.8976</td>\n",
       "    </tr>\n",
       "    <tr>\n",
       "      <th>9992</th>\n",
       "      <td>2</td>\n",
       "      <td>0</td>\n",
       "      <td>0</td>\n",
       "      <td>8</td>\n",
       "      <td>57.6800</td>\n",
       "      <td>4</td>\n",
       "      <td>0.00</td>\n",
       "      <td>19.0344</td>\n",
       "    </tr>\n",
       "  </tbody>\n",
       "</table>\n",
       "<p>8000 rows × 8 columns</p>\n",
       "</div>"
      ],
      "text/plain": [
       "      Ship Mode  Region  Category  Sub-Category      Sales  Quantity  \\\n",
       "1993          1       3         1            11   261.9600         2   \n",
       "1994          1       3         1             7   731.9400         3   \n",
       "1995          1       0         0            14    14.6200         2   \n",
       "1996          0       3         1            10   957.5775         5   \n",
       "1997          0       3         0             4    22.3680         2   \n",
       "...         ...     ...       ...           ...        ...       ...   \n",
       "9988          1       0         0             0     9.6120         6   \n",
       "9989          2       0         2             6   199.7500         5   \n",
       "9990          2       0         1            10  1673.1840        12   \n",
       "9991          2       0         1             2    12.1800         7   \n",
       "9992          2       0         0             8    57.6800         4   \n",
       "\n",
       "      Discount    Profit  \n",
       "1993      0.00   41.9136  \n",
       "1994      0.00  219.5820  \n",
       "1995      0.00    6.8714  \n",
       "1996      0.45 -383.0310  \n",
       "1997      0.20    2.5164  \n",
       "...        ...       ...  \n",
       "9988      0.70   -7.3692  \n",
       "9989      0.00   87.8900  \n",
       "9990      0.20   20.9148  \n",
       "9991      0.00    3.8976  \n",
       "9992      0.00   19.0344  \n",
       "\n",
       "[8000 rows x 8 columns]"
      ]
     },
     "execution_count": 8,
     "metadata": {},
     "output_type": "execute_result"
    }
   ],
   "source": [
    "ml_non_null_values"
   ]
  },
  {
   "cell_type": "code",
   "execution_count": 9,
   "id": "f4b11aa8",
   "metadata": {},
   "outputs": [
    {
     "data": {
      "text/plain": [
       "0    4788\n",
       "1    1565\n",
       "2    1220\n",
       "3     427\n",
       "Name: Ship Mode, dtype: int64"
      ]
     },
     "execution_count": 9,
     "metadata": {},
     "output_type": "execute_result"
    }
   ],
   "source": [
    "# Standard class = shipping within 6days\n",
    "# Second class = shipping within 3days\n",
    "# First class = shipping within 1day\n",
    "# Same day = shipping on the same day\n",
    "ml_non_null_values['Ship Mode'].value_counts()"
   ]
  },
  {
   "cell_type": "code",
   "execution_count": 10,
   "id": "f245ce8b",
   "metadata": {},
   "outputs": [
    {
     "data": {
      "text/plain": [
       "0    2605\n",
       "1    2270\n",
       "2    1816\n",
       "3    1309\n",
       "Name: Region, dtype: int64"
      ]
     },
     "execution_count": 10,
     "metadata": {},
     "output_type": "execute_result"
    }
   ],
   "source": [
    "ml_non_null_values['Region'].value_counts()"
   ]
  },
  {
   "cell_type": "code",
   "execution_count": 11,
   "id": "2eee7a6a",
   "metadata": {},
   "outputs": [
    {
     "data": {
      "text/plain": [
       "0    4840\n",
       "1    1691\n",
       "2    1469\n",
       "Name: Category, dtype: int64"
      ]
     },
     "execution_count": 11,
     "metadata": {},
     "output_type": "execute_result"
    }
   ],
   "source": [
    "ml_non_null_values['Category'].value_counts()"
   ]
  },
  {
   "cell_type": "code",
   "execution_count": 12,
   "id": "09144030",
   "metadata": {},
   "outputs": [
    {
     "data": {
      "text/plain": [
       "0     1214\n",
       "1     1099\n",
       "2      753\n",
       "3      720\n",
       "4      680\n",
       "5      648\n",
       "6      600\n",
       "7      502\n",
       "8      362\n",
       "14     291\n",
       "10     254\n",
       "9      216\n",
       "11     182\n",
       "12     181\n",
       "13     149\n",
       "15      95\n",
       "16      54\n",
       "Name: Sub-Category, dtype: int64"
      ]
     },
     "execution_count": 12,
     "metadata": {},
     "output_type": "execute_result"
    }
   ],
   "source": [
    "ml_non_null_values['Sub-Category'].value_counts()"
   ]
  },
  {
   "cell_type": "code",
   "execution_count": 13,
   "id": "4476b63c",
   "metadata": {},
   "outputs": [],
   "source": [
    "X = ml_non_null_values.drop('Profit', axis = 1)\n",
    "y = ml_non_null_values['Profit']"
   ]
  },
  {
   "cell_type": "code",
   "execution_count": 14,
   "id": "dd8feeaa",
   "metadata": {},
   "outputs": [
    {
     "data": {
      "text/plain": [
       "StandardScaler(with_mean=False, with_std=False)"
      ]
     },
     "execution_count": 14,
     "metadata": {},
     "output_type": "execute_result"
    }
   ],
   "source": [
    "# Normalizing the data set\n",
    "scaler = StandardScaler(with_mean=False, with_std=False)\n",
    "scaler.fit(X)"
   ]
  },
  {
   "cell_type": "code",
   "execution_count": 15,
   "id": "5a2f6f4f",
   "metadata": {},
   "outputs": [],
   "source": [
    "# Splitting the dataset\n",
    "X_train, X_test, y_train, y_test = train_test_split(X, y,  test_size = 0.2 , random_state = 87)"
   ]
  },
  {
   "cell_type": "code",
   "execution_count": 16,
   "id": "506410e2",
   "metadata": {},
   "outputs": [],
   "source": [
    "reg = GradientBoostingRegressor(learning_rate=0.1, n_estimators=50, subsample=1.0, criterion='mse', \n",
    "                                min_samples_split=56, min_samples_leaf=4, min_weight_fraction_leaf=0.0, max_depth=8,\n",
    "                                min_impurity_decrease=0.0, min_impurity_split=None, init=None, random_state=None, \n",
    "                                max_features=None, alpha=0.5, verbose=0, max_leaf_nodes=None, \n",
    "                                warm_start=False,validation_fraction=0.1, n_iter_no_change=None, \n",
    "                                tol=0.01, ccp_alpha=0.0)"
   ]
  },
  {
   "cell_type": "code",
   "execution_count": 17,
   "id": "ce3340c4",
   "metadata": {},
   "outputs": [
    {
     "data": {
      "text/plain": [
       "GradientBoostingRegressor(alpha=0.5, criterion='mse', max_depth=8,\n",
       "                          min_samples_leaf=4, min_samples_split=56,\n",
       "                          n_estimators=50, tol=0.01)"
      ]
     },
     "execution_count": 17,
     "metadata": {},
     "output_type": "execute_result"
    }
   ],
   "source": [
    "reg.fit(X_train, y_train)"
   ]
  },
  {
   "cell_type": "code",
   "execution_count": 18,
   "id": "50cd0de4",
   "metadata": {},
   "outputs": [
    {
     "name": "stdout",
     "output_type": "stream",
     "text": [
      "The mean squared error (MSE) on test set: 5979.2686\n"
     ]
    }
   ],
   "source": [
    "mse = mean_squared_error(y_test, reg.predict(X_test))\n",
    "print(\"The mean squared error (MSE) on test set: {:.4f}\".format(mse))"
   ]
  },
  {
   "cell_type": "markdown",
   "id": "aba42d18",
   "metadata": {},
   "source": [
    "###### Prediction with model"
   ]
  },
  {
   "cell_type": "code",
   "execution_count": 19,
   "id": "611a2f9a",
   "metadata": {},
   "outputs": [
    {
     "data": {
      "text/html": [
       "<div>\n",
       "<style scoped>\n",
       "    .dataframe tbody tr th:only-of-type {\n",
       "        vertical-align: middle;\n",
       "    }\n",
       "\n",
       "    .dataframe tbody tr th {\n",
       "        vertical-align: top;\n",
       "    }\n",
       "\n",
       "    .dataframe thead th {\n",
       "        text-align: right;\n",
       "    }\n",
       "</style>\n",
       "<table border=\"1\" class=\"dataframe\">\n",
       "  <thead>\n",
       "    <tr style=\"text-align: right;\">\n",
       "      <th></th>\n",
       "      <th>Order ID</th>\n",
       "      <th>Order Date</th>\n",
       "      <th>Ship Mode</th>\n",
       "      <th>Region</th>\n",
       "      <th>Product ID</th>\n",
       "      <th>Category</th>\n",
       "      <th>Sub-Category</th>\n",
       "      <th>Product Name</th>\n",
       "      <th>Sales</th>\n",
       "      <th>Quantity</th>\n",
       "      <th>Discount</th>\n",
       "      <th>Profit</th>\n",
       "    </tr>\n",
       "  </thead>\n",
       "  <tbody>\n",
       "    <tr>\n",
       "      <th>0</th>\n",
       "      <td>CA-2015-110870</td>\n",
       "      <td>12/12/2015</td>\n",
       "      <td>First Class</td>\n",
       "      <td>West</td>\n",
       "      <td>TEC-AC-10002926</td>\n",
       "      <td>Technology</td>\n",
       "      <td>Accessories</td>\n",
       "      <td>Logitech Wireless Marathon Mouse M705</td>\n",
       "      <td>299.940</td>\n",
       "      <td>6</td>\n",
       "      <td>0.0</td>\n",
       "      <td>NaN</td>\n",
       "    </tr>\n",
       "    <tr>\n",
       "      <th>1</th>\n",
       "      <td>CA-2015-110870</td>\n",
       "      <td>12/12/2015</td>\n",
       "      <td>First Class</td>\n",
       "      <td>West</td>\n",
       "      <td>OFF-SU-10001225</td>\n",
       "      <td>Office Supplies</td>\n",
       "      <td>Supplies</td>\n",
       "      <td>Staple remover</td>\n",
       "      <td>25.760</td>\n",
       "      <td>7</td>\n",
       "      <td>0.0</td>\n",
       "      <td>NaN</td>\n",
       "    </tr>\n",
       "    <tr>\n",
       "      <th>2</th>\n",
       "      <td>CA-2014-143210</td>\n",
       "      <td>01/12/2014</td>\n",
       "      <td>First Class</td>\n",
       "      <td>East</td>\n",
       "      <td>TEC-PH-10004434</td>\n",
       "      <td>Technology</td>\n",
       "      <td>Phones</td>\n",
       "      <td>Cisco IP Phone 7961G VoIP phone - Dark gray</td>\n",
       "      <td>271.900</td>\n",
       "      <td>2</td>\n",
       "      <td>0.0</td>\n",
       "      <td>NaN</td>\n",
       "    </tr>\n",
       "    <tr>\n",
       "      <th>3</th>\n",
       "      <td>CA-2014-143210</td>\n",
       "      <td>01/12/2014</td>\n",
       "      <td>First Class</td>\n",
       "      <td>East</td>\n",
       "      <td>FUR-FU-10003878</td>\n",
       "      <td>Furniture</td>\n",
       "      <td>Furnishings</td>\n",
       "      <td>Linden 10\" Round Wall Clock, Black</td>\n",
       "      <td>45.840</td>\n",
       "      <td>3</td>\n",
       "      <td>0.0</td>\n",
       "      <td>NaN</td>\n",
       "    </tr>\n",
       "    <tr>\n",
       "      <th>4</th>\n",
       "      <td>CA-2014-143210</td>\n",
       "      <td>01/12/2014</td>\n",
       "      <td>First Class</td>\n",
       "      <td>East</td>\n",
       "      <td>FUR-FU-10002268</td>\n",
       "      <td>Furniture</td>\n",
       "      <td>Furnishings</td>\n",
       "      <td>Ultra Door Push Plate</td>\n",
       "      <td>9.820</td>\n",
       "      <td>2</td>\n",
       "      <td>0.0</td>\n",
       "      <td>NaN</td>\n",
       "    </tr>\n",
       "    <tr>\n",
       "      <th>...</th>\n",
       "      <td>...</td>\n",
       "      <td>...</td>\n",
       "      <td>...</td>\n",
       "      <td>...</td>\n",
       "      <td>...</td>\n",
       "      <td>...</td>\n",
       "      <td>...</td>\n",
       "      <td>...</td>\n",
       "      <td>...</td>\n",
       "      <td>...</td>\n",
       "      <td>...</td>\n",
       "      <td>...</td>\n",
       "    </tr>\n",
       "    <tr>\n",
       "      <th>1988</th>\n",
       "      <td>CA-2014-110422</td>\n",
       "      <td>21/01/2014</td>\n",
       "      <td>Second Class</td>\n",
       "      <td>South</td>\n",
       "      <td>FUR-FU-10001889</td>\n",
       "      <td>Furniture</td>\n",
       "      <td>Furnishings</td>\n",
       "      <td>Ultra Door Pull Handle</td>\n",
       "      <td>25.248</td>\n",
       "      <td>3</td>\n",
       "      <td>0.2</td>\n",
       "      <td>NaN</td>\n",
       "    </tr>\n",
       "    <tr>\n",
       "      <th>1989</th>\n",
       "      <td>CA-2017-121258</td>\n",
       "      <td>26/02/2017</td>\n",
       "      <td>Standard Class</td>\n",
       "      <td>West</td>\n",
       "      <td>FUR-FU-10000747</td>\n",
       "      <td>Furniture</td>\n",
       "      <td>Furnishings</td>\n",
       "      <td>Tenex B1-RE Series Chair Mats for Low Pile Car...</td>\n",
       "      <td>91.960</td>\n",
       "      <td>2</td>\n",
       "      <td>0.0</td>\n",
       "      <td>NaN</td>\n",
       "    </tr>\n",
       "    <tr>\n",
       "      <th>1990</th>\n",
       "      <td>CA-2017-121258</td>\n",
       "      <td>26/02/2017</td>\n",
       "      <td>Standard Class</td>\n",
       "      <td>West</td>\n",
       "      <td>TEC-PH-10003645</td>\n",
       "      <td>Technology</td>\n",
       "      <td>Phones</td>\n",
       "      <td>Aastra 57i VoIP phone</td>\n",
       "      <td>258.576</td>\n",
       "      <td>2</td>\n",
       "      <td>0.2</td>\n",
       "      <td>NaN</td>\n",
       "    </tr>\n",
       "    <tr>\n",
       "      <th>1991</th>\n",
       "      <td>CA-2017-121258</td>\n",
       "      <td>26/02/2017</td>\n",
       "      <td>Standard Class</td>\n",
       "      <td>West</td>\n",
       "      <td>OFF-PA-10004041</td>\n",
       "      <td>Office Supplies</td>\n",
       "      <td>Paper</td>\n",
       "      <td>It's Hot Message Books with Stickers, 2 3/4\" x 5\"</td>\n",
       "      <td>29.600</td>\n",
       "      <td>4</td>\n",
       "      <td>0.0</td>\n",
       "      <td>NaN</td>\n",
       "    </tr>\n",
       "    <tr>\n",
       "      <th>1992</th>\n",
       "      <td>CA-2017-119914</td>\n",
       "      <td>04/05/2017</td>\n",
       "      <td>Second Class</td>\n",
       "      <td>West</td>\n",
       "      <td>OFF-AP-10002684</td>\n",
       "      <td>Office Supplies</td>\n",
       "      <td>Appliances</td>\n",
       "      <td>Acco 7-Outlet Masterpiece Power Center, Wihtou...</td>\n",
       "      <td>243.160</td>\n",
       "      <td>2</td>\n",
       "      <td>0.0</td>\n",
       "      <td>NaN</td>\n",
       "    </tr>\n",
       "  </tbody>\n",
       "</table>\n",
       "<p>1993 rows × 12 columns</p>\n",
       "</div>"
      ],
      "text/plain": [
       "            Order ID  Order Date       Ship Mode Region       Product ID  \\\n",
       "0     CA-2015-110870  12/12/2015     First Class   West  TEC-AC-10002926   \n",
       "1     CA-2015-110870  12/12/2015     First Class   West  OFF-SU-10001225   \n",
       "2     CA-2014-143210  01/12/2014     First Class   East  TEC-PH-10004434   \n",
       "3     CA-2014-143210  01/12/2014     First Class   East  FUR-FU-10003878   \n",
       "4     CA-2014-143210  01/12/2014     First Class   East  FUR-FU-10002268   \n",
       "...              ...         ...             ...    ...              ...   \n",
       "1988  CA-2014-110422  21/01/2014    Second Class  South  FUR-FU-10001889   \n",
       "1989  CA-2017-121258  26/02/2017  Standard Class   West  FUR-FU-10000747   \n",
       "1990  CA-2017-121258  26/02/2017  Standard Class   West  TEC-PH-10003645   \n",
       "1991  CA-2017-121258  26/02/2017  Standard Class   West  OFF-PA-10004041   \n",
       "1992  CA-2017-119914  04/05/2017    Second Class   West  OFF-AP-10002684   \n",
       "\n",
       "             Category Sub-Category  \\\n",
       "0          Technology  Accessories   \n",
       "1     Office Supplies     Supplies   \n",
       "2          Technology       Phones   \n",
       "3           Furniture  Furnishings   \n",
       "4           Furniture  Furnishings   \n",
       "...               ...          ...   \n",
       "1988        Furniture  Furnishings   \n",
       "1989        Furniture  Furnishings   \n",
       "1990       Technology       Phones   \n",
       "1991  Office Supplies        Paper   \n",
       "1992  Office Supplies   Appliances   \n",
       "\n",
       "                                           Product Name    Sales  Quantity  \\\n",
       "0                 Logitech Wireless Marathon Mouse M705  299.940         6   \n",
       "1                                        Staple remover   25.760         7   \n",
       "2           Cisco IP Phone 7961G VoIP phone - Dark gray  271.900         2   \n",
       "3                    Linden 10\" Round Wall Clock, Black   45.840         3   \n",
       "4                                 Ultra Door Push Plate    9.820         2   \n",
       "...                                                 ...      ...       ...   \n",
       "1988                             Ultra Door Pull Handle   25.248         3   \n",
       "1989  Tenex B1-RE Series Chair Mats for Low Pile Car...   91.960         2   \n",
       "1990                              Aastra 57i VoIP phone  258.576         2   \n",
       "1991  It's Hot Message Books with Stickers, 2 3/4\" x 5\"   29.600         4   \n",
       "1992  Acco 7-Outlet Masterpiece Power Center, Wihtou...  243.160         2   \n",
       "\n",
       "      Discount  Profit  \n",
       "0          0.0     NaN  \n",
       "1          0.0     NaN  \n",
       "2          0.0     NaN  \n",
       "3          0.0     NaN  \n",
       "4          0.0     NaN  \n",
       "...        ...     ...  \n",
       "1988       0.2     NaN  \n",
       "1989       0.0     NaN  \n",
       "1990       0.2     NaN  \n",
       "1991       0.0     NaN  \n",
       "1992       0.0     NaN  \n",
       "\n",
       "[1993 rows x 12 columns]"
      ]
     },
     "execution_count": 19,
     "metadata": {},
     "output_type": "execute_result"
    }
   ],
   "source": [
    "# null_predictors = null_values.drop(['Order ID', 'Order Date', 'Product ID', 'Product Name'], axis = 1)\n",
    "# null_predictors\n",
    "null_values"
   ]
  },
  {
   "cell_type": "code",
   "execution_count": 29,
   "id": "f82891d3",
   "metadata": {},
   "outputs": [],
   "source": [
    "cleanup_nums = {\"Ship Mode\": {\"Standard Class\": 0, \"Second Class\": 1, \"First Class\": 2, \"Same Day\": 3},\n",
    "                \"Region\": {\"West\": 0, \"East\": 1, \"Central\": 2, \"South\": 3},\n",
    "                \"Category\": {\"Office Supplies\": 0, \"Furniture\": 1, \"Technology\": 2},\n",
    "                \"Sub-Category\": {\"Binders\": 0, \"Paper\": 1, \"Furnishings\": 2, \"Phones\": 3,\n",
    "                              \"Storage\": 4, \"Art\": 5, \"Accessories\": 6, \"Chairs\": 7,\n",
    "                              \"Appliances\": 8, \"Envelopes\": 9, \"Tables\": 10, \"Bookcases\": 11, \n",
    "                                 \"Fasteners\": 12, \"Supplies\": 13, \"Labels\": 14, \"Machines\": 15, \"Copiers\": 16} \n",
    "               }\n",
    "null_values = null_values.replace(cleanup_nums)"
   ]
  },
  {
   "cell_type": "code",
   "execution_count": 31,
   "id": "682b95d6",
   "metadata": {},
   "outputs": [
    {
     "data": {
      "text/html": [
       "<div>\n",
       "<style scoped>\n",
       "    .dataframe tbody tr th:only-of-type {\n",
       "        vertical-align: middle;\n",
       "    }\n",
       "\n",
       "    .dataframe tbody tr th {\n",
       "        vertical-align: top;\n",
       "    }\n",
       "\n",
       "    .dataframe thead th {\n",
       "        text-align: right;\n",
       "    }\n",
       "</style>\n",
       "<table border=\"1\" class=\"dataframe\">\n",
       "  <thead>\n",
       "    <tr style=\"text-align: right;\">\n",
       "      <th></th>\n",
       "      <th>Order ID</th>\n",
       "      <th>Order Date</th>\n",
       "      <th>Ship Mode</th>\n",
       "      <th>Region</th>\n",
       "      <th>Product ID</th>\n",
       "      <th>Category</th>\n",
       "      <th>Sub-Category</th>\n",
       "      <th>Product Name</th>\n",
       "      <th>Sales</th>\n",
       "      <th>Quantity</th>\n",
       "      <th>Discount</th>\n",
       "    </tr>\n",
       "  </thead>\n",
       "  <tbody>\n",
       "    <tr>\n",
       "      <th>0</th>\n",
       "      <td>CA-2015-110870</td>\n",
       "      <td>12/12/2015</td>\n",
       "      <td>2</td>\n",
       "      <td>0</td>\n",
       "      <td>TEC-AC-10002926</td>\n",
       "      <td>2</td>\n",
       "      <td>6</td>\n",
       "      <td>Logitech Wireless Marathon Mouse M705</td>\n",
       "      <td>299.940</td>\n",
       "      <td>6</td>\n",
       "      <td>0.0</td>\n",
       "    </tr>\n",
       "    <tr>\n",
       "      <th>1</th>\n",
       "      <td>CA-2015-110870</td>\n",
       "      <td>12/12/2015</td>\n",
       "      <td>2</td>\n",
       "      <td>0</td>\n",
       "      <td>OFF-SU-10001225</td>\n",
       "      <td>0</td>\n",
       "      <td>13</td>\n",
       "      <td>Staple remover</td>\n",
       "      <td>25.760</td>\n",
       "      <td>7</td>\n",
       "      <td>0.0</td>\n",
       "    </tr>\n",
       "    <tr>\n",
       "      <th>2</th>\n",
       "      <td>CA-2014-143210</td>\n",
       "      <td>01/12/2014</td>\n",
       "      <td>2</td>\n",
       "      <td>1</td>\n",
       "      <td>TEC-PH-10004434</td>\n",
       "      <td>2</td>\n",
       "      <td>3</td>\n",
       "      <td>Cisco IP Phone 7961G VoIP phone - Dark gray</td>\n",
       "      <td>271.900</td>\n",
       "      <td>2</td>\n",
       "      <td>0.0</td>\n",
       "    </tr>\n",
       "    <tr>\n",
       "      <th>3</th>\n",
       "      <td>CA-2014-143210</td>\n",
       "      <td>01/12/2014</td>\n",
       "      <td>2</td>\n",
       "      <td>1</td>\n",
       "      <td>FUR-FU-10003878</td>\n",
       "      <td>1</td>\n",
       "      <td>2</td>\n",
       "      <td>Linden 10\" Round Wall Clock, Black</td>\n",
       "      <td>45.840</td>\n",
       "      <td>3</td>\n",
       "      <td>0.0</td>\n",
       "    </tr>\n",
       "    <tr>\n",
       "      <th>4</th>\n",
       "      <td>CA-2014-143210</td>\n",
       "      <td>01/12/2014</td>\n",
       "      <td>2</td>\n",
       "      <td>1</td>\n",
       "      <td>FUR-FU-10002268</td>\n",
       "      <td>1</td>\n",
       "      <td>2</td>\n",
       "      <td>Ultra Door Push Plate</td>\n",
       "      <td>9.820</td>\n",
       "      <td>2</td>\n",
       "      <td>0.0</td>\n",
       "    </tr>\n",
       "    <tr>\n",
       "      <th>...</th>\n",
       "      <td>...</td>\n",
       "      <td>...</td>\n",
       "      <td>...</td>\n",
       "      <td>...</td>\n",
       "      <td>...</td>\n",
       "      <td>...</td>\n",
       "      <td>...</td>\n",
       "      <td>...</td>\n",
       "      <td>...</td>\n",
       "      <td>...</td>\n",
       "      <td>...</td>\n",
       "    </tr>\n",
       "    <tr>\n",
       "      <th>1988</th>\n",
       "      <td>CA-2014-110422</td>\n",
       "      <td>21/01/2014</td>\n",
       "      <td>1</td>\n",
       "      <td>3</td>\n",
       "      <td>FUR-FU-10001889</td>\n",
       "      <td>1</td>\n",
       "      <td>2</td>\n",
       "      <td>Ultra Door Pull Handle</td>\n",
       "      <td>25.248</td>\n",
       "      <td>3</td>\n",
       "      <td>0.2</td>\n",
       "    </tr>\n",
       "    <tr>\n",
       "      <th>1989</th>\n",
       "      <td>CA-2017-121258</td>\n",
       "      <td>26/02/2017</td>\n",
       "      <td>0</td>\n",
       "      <td>0</td>\n",
       "      <td>FUR-FU-10000747</td>\n",
       "      <td>1</td>\n",
       "      <td>2</td>\n",
       "      <td>Tenex B1-RE Series Chair Mats for Low Pile Car...</td>\n",
       "      <td>91.960</td>\n",
       "      <td>2</td>\n",
       "      <td>0.0</td>\n",
       "    </tr>\n",
       "    <tr>\n",
       "      <th>1990</th>\n",
       "      <td>CA-2017-121258</td>\n",
       "      <td>26/02/2017</td>\n",
       "      <td>0</td>\n",
       "      <td>0</td>\n",
       "      <td>TEC-PH-10003645</td>\n",
       "      <td>2</td>\n",
       "      <td>3</td>\n",
       "      <td>Aastra 57i VoIP phone</td>\n",
       "      <td>258.576</td>\n",
       "      <td>2</td>\n",
       "      <td>0.2</td>\n",
       "    </tr>\n",
       "    <tr>\n",
       "      <th>1991</th>\n",
       "      <td>CA-2017-121258</td>\n",
       "      <td>26/02/2017</td>\n",
       "      <td>0</td>\n",
       "      <td>0</td>\n",
       "      <td>OFF-PA-10004041</td>\n",
       "      <td>0</td>\n",
       "      <td>1</td>\n",
       "      <td>It's Hot Message Books with Stickers, 2 3/4\" x 5\"</td>\n",
       "      <td>29.600</td>\n",
       "      <td>4</td>\n",
       "      <td>0.0</td>\n",
       "    </tr>\n",
       "    <tr>\n",
       "      <th>1992</th>\n",
       "      <td>CA-2017-119914</td>\n",
       "      <td>04/05/2017</td>\n",
       "      <td>1</td>\n",
       "      <td>0</td>\n",
       "      <td>OFF-AP-10002684</td>\n",
       "      <td>0</td>\n",
       "      <td>8</td>\n",
       "      <td>Acco 7-Outlet Masterpiece Power Center, Wihtou...</td>\n",
       "      <td>243.160</td>\n",
       "      <td>2</td>\n",
       "      <td>0.0</td>\n",
       "    </tr>\n",
       "  </tbody>\n",
       "</table>\n",
       "<p>1993 rows × 11 columns</p>\n",
       "</div>"
      ],
      "text/plain": [
       "            Order ID  Order Date  Ship Mode  Region       Product ID  \\\n",
       "0     CA-2015-110870  12/12/2015          2       0  TEC-AC-10002926   \n",
       "1     CA-2015-110870  12/12/2015          2       0  OFF-SU-10001225   \n",
       "2     CA-2014-143210  01/12/2014          2       1  TEC-PH-10004434   \n",
       "3     CA-2014-143210  01/12/2014          2       1  FUR-FU-10003878   \n",
       "4     CA-2014-143210  01/12/2014          2       1  FUR-FU-10002268   \n",
       "...              ...         ...        ...     ...              ...   \n",
       "1988  CA-2014-110422  21/01/2014          1       3  FUR-FU-10001889   \n",
       "1989  CA-2017-121258  26/02/2017          0       0  FUR-FU-10000747   \n",
       "1990  CA-2017-121258  26/02/2017          0       0  TEC-PH-10003645   \n",
       "1991  CA-2017-121258  26/02/2017          0       0  OFF-PA-10004041   \n",
       "1992  CA-2017-119914  04/05/2017          1       0  OFF-AP-10002684   \n",
       "\n",
       "      Category  Sub-Category  \\\n",
       "0            2             6   \n",
       "1            0            13   \n",
       "2            2             3   \n",
       "3            1             2   \n",
       "4            1             2   \n",
       "...        ...           ...   \n",
       "1988         1             2   \n",
       "1989         1             2   \n",
       "1990         2             3   \n",
       "1991         0             1   \n",
       "1992         0             8   \n",
       "\n",
       "                                           Product Name    Sales  Quantity  \\\n",
       "0                 Logitech Wireless Marathon Mouse M705  299.940         6   \n",
       "1                                        Staple remover   25.760         7   \n",
       "2           Cisco IP Phone 7961G VoIP phone - Dark gray  271.900         2   \n",
       "3                    Linden 10\" Round Wall Clock, Black   45.840         3   \n",
       "4                                 Ultra Door Push Plate    9.820         2   \n",
       "...                                                 ...      ...       ...   \n",
       "1988                             Ultra Door Pull Handle   25.248         3   \n",
       "1989  Tenex B1-RE Series Chair Mats for Low Pile Car...   91.960         2   \n",
       "1990                              Aastra 57i VoIP phone  258.576         2   \n",
       "1991  It's Hot Message Books with Stickers, 2 3/4\" x 5\"   29.600         4   \n",
       "1992  Acco 7-Outlet Masterpiece Power Center, Wihtou...  243.160         2   \n",
       "\n",
       "      Discount  \n",
       "0          0.0  \n",
       "1          0.0  \n",
       "2          0.0  \n",
       "3          0.0  \n",
       "4          0.0  \n",
       "...        ...  \n",
       "1988       0.2  \n",
       "1989       0.0  \n",
       "1990       0.2  \n",
       "1991       0.0  \n",
       "1992       0.0  \n",
       "\n",
       "[1993 rows x 11 columns]"
      ]
     },
     "execution_count": 31,
     "metadata": {},
     "output_type": "execute_result"
    }
   ],
   "source": [
    "null_predictors_without_profit = null_values.drop('Profit', axis = 1)\n",
    "null_predictors_without_profit"
   ]
  },
  {
   "cell_type": "code",
   "execution_count": 32,
   "id": "fe53c9af",
   "metadata": {},
   "outputs": [
    {
     "data": {
      "text/plain": [
       "[73.07868580364062,\n",
       " 7.479083256629247,\n",
       " 67.57204970580256,\n",
       " 17.123752677473398,\n",
       " 6.489454259474552]"
      ]
     },
     "execution_count": 32,
     "metadata": {},
     "output_type": "execute_result"
    }
   ],
   "source": [
    "pred = reg.predict(null_predictors_without_profit.drop(['Order ID', 'Order Date', 'Product ID', 'Product Name'], axis = 1)).tolist()\n",
    "pred[:5]"
   ]
  },
  {
   "cell_type": "code",
   "execution_count": 33,
   "id": "3f8d6e7c",
   "metadata": {},
   "outputs": [],
   "source": [
    "null_values['Profit'] = pred"
   ]
  },
  {
   "cell_type": "code",
   "execution_count": 35,
   "id": "b7d27be6",
   "metadata": {},
   "outputs": [
    {
     "data": {
      "text/html": [
       "<div>\n",
       "<style scoped>\n",
       "    .dataframe tbody tr th:only-of-type {\n",
       "        vertical-align: middle;\n",
       "    }\n",
       "\n",
       "    .dataframe tbody tr th {\n",
       "        vertical-align: top;\n",
       "    }\n",
       "\n",
       "    .dataframe thead th {\n",
       "        text-align: right;\n",
       "    }\n",
       "</style>\n",
       "<table border=\"1\" class=\"dataframe\">\n",
       "  <thead>\n",
       "    <tr style=\"text-align: right;\">\n",
       "      <th></th>\n",
       "      <th>Order ID</th>\n",
       "      <th>Order Date</th>\n",
       "      <th>Ship Mode</th>\n",
       "      <th>Region</th>\n",
       "      <th>Product ID</th>\n",
       "      <th>Category</th>\n",
       "      <th>Sub-Category</th>\n",
       "      <th>Product Name</th>\n",
       "      <th>Sales</th>\n",
       "      <th>Quantity</th>\n",
       "      <th>Discount</th>\n",
       "      <th>Profit</th>\n",
       "    </tr>\n",
       "  </thead>\n",
       "  <tbody>\n",
       "    <tr>\n",
       "      <th>0</th>\n",
       "      <td>CA-2015-110870</td>\n",
       "      <td>12/12/2015</td>\n",
       "      <td>2</td>\n",
       "      <td>0</td>\n",
       "      <td>TEC-AC-10002926</td>\n",
       "      <td>2</td>\n",
       "      <td>6</td>\n",
       "      <td>Logitech Wireless Marathon Mouse M705</td>\n",
       "      <td>299.940</td>\n",
       "      <td>6</td>\n",
       "      <td>0.0</td>\n",
       "      <td>73.078686</td>\n",
       "    </tr>\n",
       "    <tr>\n",
       "      <th>1</th>\n",
       "      <td>CA-2015-110870</td>\n",
       "      <td>12/12/2015</td>\n",
       "      <td>2</td>\n",
       "      <td>0</td>\n",
       "      <td>OFF-SU-10001225</td>\n",
       "      <td>0</td>\n",
       "      <td>13</td>\n",
       "      <td>Staple remover</td>\n",
       "      <td>25.760</td>\n",
       "      <td>7</td>\n",
       "      <td>0.0</td>\n",
       "      <td>7.479083</td>\n",
       "    </tr>\n",
       "    <tr>\n",
       "      <th>2</th>\n",
       "      <td>CA-2014-143210</td>\n",
       "      <td>01/12/2014</td>\n",
       "      <td>2</td>\n",
       "      <td>1</td>\n",
       "      <td>TEC-PH-10004434</td>\n",
       "      <td>2</td>\n",
       "      <td>3</td>\n",
       "      <td>Cisco IP Phone 7961G VoIP phone - Dark gray</td>\n",
       "      <td>271.900</td>\n",
       "      <td>2</td>\n",
       "      <td>0.0</td>\n",
       "      <td>67.572050</td>\n",
       "    </tr>\n",
       "    <tr>\n",
       "      <th>3</th>\n",
       "      <td>CA-2014-143210</td>\n",
       "      <td>01/12/2014</td>\n",
       "      <td>2</td>\n",
       "      <td>1</td>\n",
       "      <td>FUR-FU-10003878</td>\n",
       "      <td>1</td>\n",
       "      <td>2</td>\n",
       "      <td>Linden 10\" Round Wall Clock, Black</td>\n",
       "      <td>45.840</td>\n",
       "      <td>3</td>\n",
       "      <td>0.0</td>\n",
       "      <td>17.123753</td>\n",
       "    </tr>\n",
       "    <tr>\n",
       "      <th>4</th>\n",
       "      <td>CA-2014-143210</td>\n",
       "      <td>01/12/2014</td>\n",
       "      <td>2</td>\n",
       "      <td>1</td>\n",
       "      <td>FUR-FU-10002268</td>\n",
       "      <td>1</td>\n",
       "      <td>2</td>\n",
       "      <td>Ultra Door Push Plate</td>\n",
       "      <td>9.820</td>\n",
       "      <td>2</td>\n",
       "      <td>0.0</td>\n",
       "      <td>6.489454</td>\n",
       "    </tr>\n",
       "    <tr>\n",
       "      <th>...</th>\n",
       "      <td>...</td>\n",
       "      <td>...</td>\n",
       "      <td>...</td>\n",
       "      <td>...</td>\n",
       "      <td>...</td>\n",
       "      <td>...</td>\n",
       "      <td>...</td>\n",
       "      <td>...</td>\n",
       "      <td>...</td>\n",
       "      <td>...</td>\n",
       "      <td>...</td>\n",
       "      <td>...</td>\n",
       "    </tr>\n",
       "    <tr>\n",
       "      <th>1988</th>\n",
       "      <td>CA-2014-110422</td>\n",
       "      <td>21/01/2014</td>\n",
       "      <td>1</td>\n",
       "      <td>3</td>\n",
       "      <td>FUR-FU-10001889</td>\n",
       "      <td>1</td>\n",
       "      <td>2</td>\n",
       "      <td>Ultra Door Pull Handle</td>\n",
       "      <td>25.248</td>\n",
       "      <td>3</td>\n",
       "      <td>0.2</td>\n",
       "      <td>7.171466</td>\n",
       "    </tr>\n",
       "    <tr>\n",
       "      <th>1989</th>\n",
       "      <td>CA-2017-121258</td>\n",
       "      <td>26/02/2017</td>\n",
       "      <td>0</td>\n",
       "      <td>0</td>\n",
       "      <td>FUR-FU-10000747</td>\n",
       "      <td>1</td>\n",
       "      <td>2</td>\n",
       "      <td>Tenex B1-RE Series Chair Mats for Low Pile Car...</td>\n",
       "      <td>91.960</td>\n",
       "      <td>2</td>\n",
       "      <td>0.0</td>\n",
       "      <td>27.784326</td>\n",
       "    </tr>\n",
       "    <tr>\n",
       "      <th>1990</th>\n",
       "      <td>CA-2017-121258</td>\n",
       "      <td>26/02/2017</td>\n",
       "      <td>0</td>\n",
       "      <td>0</td>\n",
       "      <td>TEC-PH-10003645</td>\n",
       "      <td>2</td>\n",
       "      <td>3</td>\n",
       "      <td>Aastra 57i VoIP phone</td>\n",
       "      <td>258.576</td>\n",
       "      <td>2</td>\n",
       "      <td>0.2</td>\n",
       "      <td>30.928890</td>\n",
       "    </tr>\n",
       "    <tr>\n",
       "      <th>1991</th>\n",
       "      <td>CA-2017-121258</td>\n",
       "      <td>26/02/2017</td>\n",
       "      <td>0</td>\n",
       "      <td>0</td>\n",
       "      <td>OFF-PA-10004041</td>\n",
       "      <td>0</td>\n",
       "      <td>1</td>\n",
       "      <td>It's Hot Message Books with Stickers, 2 3/4\" x 5\"</td>\n",
       "      <td>29.600</td>\n",
       "      <td>4</td>\n",
       "      <td>0.0</td>\n",
       "      <td>14.079345</td>\n",
       "    </tr>\n",
       "    <tr>\n",
       "      <th>1992</th>\n",
       "      <td>CA-2017-119914</td>\n",
       "      <td>04/05/2017</td>\n",
       "      <td>1</td>\n",
       "      <td>0</td>\n",
       "      <td>OFF-AP-10002684</td>\n",
       "      <td>0</td>\n",
       "      <td>8</td>\n",
       "      <td>Acco 7-Outlet Masterpiece Power Center, Wihtou...</td>\n",
       "      <td>243.160</td>\n",
       "      <td>2</td>\n",
       "      <td>0.0</td>\n",
       "      <td>48.662634</td>\n",
       "    </tr>\n",
       "  </tbody>\n",
       "</table>\n",
       "<p>1993 rows × 12 columns</p>\n",
       "</div>"
      ],
      "text/plain": [
       "            Order ID  Order Date  Ship Mode  Region       Product ID  \\\n",
       "0     CA-2015-110870  12/12/2015          2       0  TEC-AC-10002926   \n",
       "1     CA-2015-110870  12/12/2015          2       0  OFF-SU-10001225   \n",
       "2     CA-2014-143210  01/12/2014          2       1  TEC-PH-10004434   \n",
       "3     CA-2014-143210  01/12/2014          2       1  FUR-FU-10003878   \n",
       "4     CA-2014-143210  01/12/2014          2       1  FUR-FU-10002268   \n",
       "...              ...         ...        ...     ...              ...   \n",
       "1988  CA-2014-110422  21/01/2014          1       3  FUR-FU-10001889   \n",
       "1989  CA-2017-121258  26/02/2017          0       0  FUR-FU-10000747   \n",
       "1990  CA-2017-121258  26/02/2017          0       0  TEC-PH-10003645   \n",
       "1991  CA-2017-121258  26/02/2017          0       0  OFF-PA-10004041   \n",
       "1992  CA-2017-119914  04/05/2017          1       0  OFF-AP-10002684   \n",
       "\n",
       "      Category  Sub-Category  \\\n",
       "0            2             6   \n",
       "1            0            13   \n",
       "2            2             3   \n",
       "3            1             2   \n",
       "4            1             2   \n",
       "...        ...           ...   \n",
       "1988         1             2   \n",
       "1989         1             2   \n",
       "1990         2             3   \n",
       "1991         0             1   \n",
       "1992         0             8   \n",
       "\n",
       "                                           Product Name    Sales  Quantity  \\\n",
       "0                 Logitech Wireless Marathon Mouse M705  299.940         6   \n",
       "1                                        Staple remover   25.760         7   \n",
       "2           Cisco IP Phone 7961G VoIP phone - Dark gray  271.900         2   \n",
       "3                    Linden 10\" Round Wall Clock, Black   45.840         3   \n",
       "4                                 Ultra Door Push Plate    9.820         2   \n",
       "...                                                 ...      ...       ...   \n",
       "1988                             Ultra Door Pull Handle   25.248         3   \n",
       "1989  Tenex B1-RE Series Chair Mats for Low Pile Car...   91.960         2   \n",
       "1990                              Aastra 57i VoIP phone  258.576         2   \n",
       "1991  It's Hot Message Books with Stickers, 2 3/4\" x 5\"   29.600         4   \n",
       "1992  Acco 7-Outlet Masterpiece Power Center, Wihtou...  243.160         2   \n",
       "\n",
       "      Discount     Profit  \n",
       "0          0.0  73.078686  \n",
       "1          0.0   7.479083  \n",
       "2          0.0  67.572050  \n",
       "3          0.0  17.123753  \n",
       "4          0.0   6.489454  \n",
       "...        ...        ...  \n",
       "1988       0.2   7.171466  \n",
       "1989       0.0  27.784326  \n",
       "1990       0.2  30.928890  \n",
       "1991       0.0  14.079345  \n",
       "1992       0.0  48.662634  \n",
       "\n",
       "[1993 rows x 12 columns]"
      ]
     },
     "execution_count": 35,
     "metadata": {},
     "output_type": "execute_result"
    }
   ],
   "source": [
    "null_values_after_pred = null_values\n",
    "null_values_after_pred"
   ]
  },
  {
   "cell_type": "markdown",
   "id": "59cc3573",
   "metadata": {},
   "source": [
    "###### Replace figures after prediction df"
   ]
  },
  {
   "cell_type": "code",
   "execution_count": 36,
   "id": "dd4daa2f",
   "metadata": {},
   "outputs": [],
   "source": [
    "cleanup_nums = {\"Ship Mode\": {0: \"Standard Class\", 1: \"Second Class\" , 2: \"First Class\" , 3: \"Same Day\" },\n",
    "                \"Region\": {0: \"West\" , 1: \"East\" , 2: \"Central\" , 3: \"South\" },\n",
    "                \"Category\": {0: \"Office Supplies\" , 1: \"Furniture\" , 2: \"Technology\" },\n",
    "                \"Sub-Category\": {0: \"Binders\" , 1: \"Paper\" , 2: \"Furnishings\" , 3: \"Phones\" ,\n",
    "                              4: \"Storage\" , 5: \"Art\" , 6: \"Accessories\" , 7: \"Chairs\" ,\n",
    "                              8: \"Appliances\" , 9: \"Envelopes\" , 10: \"Tables\" , 11: \"Bookcases\" , \n",
    "                                12: \"Fasteners\" , 13: \"Supplies\" , 14: \"Labels\" , 15: \"Machines\" , 16: \"Copiers\" } \n",
    "               }\n",
    "df_after_prediction = null_values_after_pred.replace(cleanup_nums)"
   ]
  },
  {
   "cell_type": "code",
   "execution_count": 37,
   "id": "6dca68f3",
   "metadata": {},
   "outputs": [
    {
     "data": {
      "text/html": [
       "<div>\n",
       "<style scoped>\n",
       "    .dataframe tbody tr th:only-of-type {\n",
       "        vertical-align: middle;\n",
       "    }\n",
       "\n",
       "    .dataframe tbody tr th {\n",
       "        vertical-align: top;\n",
       "    }\n",
       "\n",
       "    .dataframe thead th {\n",
       "        text-align: right;\n",
       "    }\n",
       "</style>\n",
       "<table border=\"1\" class=\"dataframe\">\n",
       "  <thead>\n",
       "    <tr style=\"text-align: right;\">\n",
       "      <th></th>\n",
       "      <th>Order ID</th>\n",
       "      <th>Order Date</th>\n",
       "      <th>Ship Mode</th>\n",
       "      <th>Region</th>\n",
       "      <th>Product ID</th>\n",
       "      <th>Category</th>\n",
       "      <th>Sub-Category</th>\n",
       "      <th>Product Name</th>\n",
       "      <th>Sales</th>\n",
       "      <th>Quantity</th>\n",
       "      <th>Discount</th>\n",
       "      <th>Profit</th>\n",
       "    </tr>\n",
       "  </thead>\n",
       "  <tbody>\n",
       "    <tr>\n",
       "      <th>0</th>\n",
       "      <td>CA-2015-110870</td>\n",
       "      <td>12/12/2015</td>\n",
       "      <td>First Class</td>\n",
       "      <td>West</td>\n",
       "      <td>TEC-AC-10002926</td>\n",
       "      <td>Technology</td>\n",
       "      <td>Accessories</td>\n",
       "      <td>Logitech Wireless Marathon Mouse M705</td>\n",
       "      <td>299.940</td>\n",
       "      <td>6</td>\n",
       "      <td>0.0</td>\n",
       "      <td>73.078686</td>\n",
       "    </tr>\n",
       "    <tr>\n",
       "      <th>1</th>\n",
       "      <td>CA-2015-110870</td>\n",
       "      <td>12/12/2015</td>\n",
       "      <td>First Class</td>\n",
       "      <td>West</td>\n",
       "      <td>OFF-SU-10001225</td>\n",
       "      <td>Office Supplies</td>\n",
       "      <td>Supplies</td>\n",
       "      <td>Staple remover</td>\n",
       "      <td>25.760</td>\n",
       "      <td>7</td>\n",
       "      <td>0.0</td>\n",
       "      <td>7.479083</td>\n",
       "    </tr>\n",
       "    <tr>\n",
       "      <th>2</th>\n",
       "      <td>CA-2014-143210</td>\n",
       "      <td>01/12/2014</td>\n",
       "      <td>First Class</td>\n",
       "      <td>East</td>\n",
       "      <td>TEC-PH-10004434</td>\n",
       "      <td>Technology</td>\n",
       "      <td>Phones</td>\n",
       "      <td>Cisco IP Phone 7961G VoIP phone - Dark gray</td>\n",
       "      <td>271.900</td>\n",
       "      <td>2</td>\n",
       "      <td>0.0</td>\n",
       "      <td>67.572050</td>\n",
       "    </tr>\n",
       "    <tr>\n",
       "      <th>3</th>\n",
       "      <td>CA-2014-143210</td>\n",
       "      <td>01/12/2014</td>\n",
       "      <td>First Class</td>\n",
       "      <td>East</td>\n",
       "      <td>FUR-FU-10003878</td>\n",
       "      <td>Furniture</td>\n",
       "      <td>Furnishings</td>\n",
       "      <td>Linden 10\" Round Wall Clock, Black</td>\n",
       "      <td>45.840</td>\n",
       "      <td>3</td>\n",
       "      <td>0.0</td>\n",
       "      <td>17.123753</td>\n",
       "    </tr>\n",
       "    <tr>\n",
       "      <th>4</th>\n",
       "      <td>CA-2014-143210</td>\n",
       "      <td>01/12/2014</td>\n",
       "      <td>First Class</td>\n",
       "      <td>East</td>\n",
       "      <td>FUR-FU-10002268</td>\n",
       "      <td>Furniture</td>\n",
       "      <td>Furnishings</td>\n",
       "      <td>Ultra Door Push Plate</td>\n",
       "      <td>9.820</td>\n",
       "      <td>2</td>\n",
       "      <td>0.0</td>\n",
       "      <td>6.489454</td>\n",
       "    </tr>\n",
       "    <tr>\n",
       "      <th>...</th>\n",
       "      <td>...</td>\n",
       "      <td>...</td>\n",
       "      <td>...</td>\n",
       "      <td>...</td>\n",
       "      <td>...</td>\n",
       "      <td>...</td>\n",
       "      <td>...</td>\n",
       "      <td>...</td>\n",
       "      <td>...</td>\n",
       "      <td>...</td>\n",
       "      <td>...</td>\n",
       "      <td>...</td>\n",
       "    </tr>\n",
       "    <tr>\n",
       "      <th>1988</th>\n",
       "      <td>CA-2014-110422</td>\n",
       "      <td>21/01/2014</td>\n",
       "      <td>Second Class</td>\n",
       "      <td>South</td>\n",
       "      <td>FUR-FU-10001889</td>\n",
       "      <td>Furniture</td>\n",
       "      <td>Furnishings</td>\n",
       "      <td>Ultra Door Pull Handle</td>\n",
       "      <td>25.248</td>\n",
       "      <td>3</td>\n",
       "      <td>0.2</td>\n",
       "      <td>7.171466</td>\n",
       "    </tr>\n",
       "    <tr>\n",
       "      <th>1989</th>\n",
       "      <td>CA-2017-121258</td>\n",
       "      <td>26/02/2017</td>\n",
       "      <td>Standard Class</td>\n",
       "      <td>West</td>\n",
       "      <td>FUR-FU-10000747</td>\n",
       "      <td>Furniture</td>\n",
       "      <td>Furnishings</td>\n",
       "      <td>Tenex B1-RE Series Chair Mats for Low Pile Car...</td>\n",
       "      <td>91.960</td>\n",
       "      <td>2</td>\n",
       "      <td>0.0</td>\n",
       "      <td>27.784326</td>\n",
       "    </tr>\n",
       "    <tr>\n",
       "      <th>1990</th>\n",
       "      <td>CA-2017-121258</td>\n",
       "      <td>26/02/2017</td>\n",
       "      <td>Standard Class</td>\n",
       "      <td>West</td>\n",
       "      <td>TEC-PH-10003645</td>\n",
       "      <td>Technology</td>\n",
       "      <td>Phones</td>\n",
       "      <td>Aastra 57i VoIP phone</td>\n",
       "      <td>258.576</td>\n",
       "      <td>2</td>\n",
       "      <td>0.2</td>\n",
       "      <td>30.928890</td>\n",
       "    </tr>\n",
       "    <tr>\n",
       "      <th>1991</th>\n",
       "      <td>CA-2017-121258</td>\n",
       "      <td>26/02/2017</td>\n",
       "      <td>Standard Class</td>\n",
       "      <td>West</td>\n",
       "      <td>OFF-PA-10004041</td>\n",
       "      <td>Office Supplies</td>\n",
       "      <td>Paper</td>\n",
       "      <td>It's Hot Message Books with Stickers, 2 3/4\" x 5\"</td>\n",
       "      <td>29.600</td>\n",
       "      <td>4</td>\n",
       "      <td>0.0</td>\n",
       "      <td>14.079345</td>\n",
       "    </tr>\n",
       "    <tr>\n",
       "      <th>1992</th>\n",
       "      <td>CA-2017-119914</td>\n",
       "      <td>04/05/2017</td>\n",
       "      <td>Second Class</td>\n",
       "      <td>West</td>\n",
       "      <td>OFF-AP-10002684</td>\n",
       "      <td>Office Supplies</td>\n",
       "      <td>Appliances</td>\n",
       "      <td>Acco 7-Outlet Masterpiece Power Center, Wihtou...</td>\n",
       "      <td>243.160</td>\n",
       "      <td>2</td>\n",
       "      <td>0.0</td>\n",
       "      <td>48.662634</td>\n",
       "    </tr>\n",
       "  </tbody>\n",
       "</table>\n",
       "<p>1993 rows × 12 columns</p>\n",
       "</div>"
      ],
      "text/plain": [
       "            Order ID  Order Date       Ship Mode Region       Product ID  \\\n",
       "0     CA-2015-110870  12/12/2015     First Class   West  TEC-AC-10002926   \n",
       "1     CA-2015-110870  12/12/2015     First Class   West  OFF-SU-10001225   \n",
       "2     CA-2014-143210  01/12/2014     First Class   East  TEC-PH-10004434   \n",
       "3     CA-2014-143210  01/12/2014     First Class   East  FUR-FU-10003878   \n",
       "4     CA-2014-143210  01/12/2014     First Class   East  FUR-FU-10002268   \n",
       "...              ...         ...             ...    ...              ...   \n",
       "1988  CA-2014-110422  21/01/2014    Second Class  South  FUR-FU-10001889   \n",
       "1989  CA-2017-121258  26/02/2017  Standard Class   West  FUR-FU-10000747   \n",
       "1990  CA-2017-121258  26/02/2017  Standard Class   West  TEC-PH-10003645   \n",
       "1991  CA-2017-121258  26/02/2017  Standard Class   West  OFF-PA-10004041   \n",
       "1992  CA-2017-119914  04/05/2017    Second Class   West  OFF-AP-10002684   \n",
       "\n",
       "             Category Sub-Category  \\\n",
       "0          Technology  Accessories   \n",
       "1     Office Supplies     Supplies   \n",
       "2          Technology       Phones   \n",
       "3           Furniture  Furnishings   \n",
       "4           Furniture  Furnishings   \n",
       "...               ...          ...   \n",
       "1988        Furniture  Furnishings   \n",
       "1989        Furniture  Furnishings   \n",
       "1990       Technology       Phones   \n",
       "1991  Office Supplies        Paper   \n",
       "1992  Office Supplies   Appliances   \n",
       "\n",
       "                                           Product Name    Sales  Quantity  \\\n",
       "0                 Logitech Wireless Marathon Mouse M705  299.940         6   \n",
       "1                                        Staple remover   25.760         7   \n",
       "2           Cisco IP Phone 7961G VoIP phone - Dark gray  271.900         2   \n",
       "3                    Linden 10\" Round Wall Clock, Black   45.840         3   \n",
       "4                                 Ultra Door Push Plate    9.820         2   \n",
       "...                                                 ...      ...       ...   \n",
       "1988                             Ultra Door Pull Handle   25.248         3   \n",
       "1989  Tenex B1-RE Series Chair Mats for Low Pile Car...   91.960         2   \n",
       "1990                              Aastra 57i VoIP phone  258.576         2   \n",
       "1991  It's Hot Message Books with Stickers, 2 3/4\" x 5\"   29.600         4   \n",
       "1992  Acco 7-Outlet Masterpiece Power Center, Wihtou...  243.160         2   \n",
       "\n",
       "      Discount     Profit  \n",
       "0          0.0  73.078686  \n",
       "1          0.0   7.479083  \n",
       "2          0.0  67.572050  \n",
       "3          0.0  17.123753  \n",
       "4          0.0   6.489454  \n",
       "...        ...        ...  \n",
       "1988       0.2   7.171466  \n",
       "1989       0.0  27.784326  \n",
       "1990       0.2  30.928890  \n",
       "1991       0.0  14.079345  \n",
       "1992       0.0  48.662634  \n",
       "\n",
       "[1993 rows x 12 columns]"
      ]
     },
     "execution_count": 37,
     "metadata": {},
     "output_type": "execute_result"
    }
   ],
   "source": [
    "df_after_prediction"
   ]
  },
  {
   "cell_type": "markdown",
   "id": "8c9b0653",
   "metadata": {},
   "source": [
    "###### Recombine_dfs"
   ]
  },
  {
   "cell_type": "code",
   "execution_count": 38,
   "id": "3ce93c53",
   "metadata": {},
   "outputs": [],
   "source": [
    "office_data = pd.concat([df_after_prediction, non_null_values])"
   ]
  },
  {
   "cell_type": "code",
   "execution_count": 39,
   "id": "b7350f75",
   "metadata": {},
   "outputs": [
    {
     "data": {
      "text/html": [
       "<div>\n",
       "<style scoped>\n",
       "    .dataframe tbody tr th:only-of-type {\n",
       "        vertical-align: middle;\n",
       "    }\n",
       "\n",
       "    .dataframe tbody tr th {\n",
       "        vertical-align: top;\n",
       "    }\n",
       "\n",
       "    .dataframe thead th {\n",
       "        text-align: right;\n",
       "    }\n",
       "</style>\n",
       "<table border=\"1\" class=\"dataframe\">\n",
       "  <thead>\n",
       "    <tr style=\"text-align: right;\">\n",
       "      <th></th>\n",
       "      <th>Order ID</th>\n",
       "      <th>Order Date</th>\n",
       "      <th>Ship Mode</th>\n",
       "      <th>Region</th>\n",
       "      <th>Product ID</th>\n",
       "      <th>Category</th>\n",
       "      <th>Sub-Category</th>\n",
       "      <th>Product Name</th>\n",
       "      <th>Sales</th>\n",
       "      <th>Quantity</th>\n",
       "      <th>Discount</th>\n",
       "      <th>Profit</th>\n",
       "    </tr>\n",
       "  </thead>\n",
       "  <tbody>\n",
       "    <tr>\n",
       "      <th>0</th>\n",
       "      <td>CA-2015-110870</td>\n",
       "      <td>12/12/2015</td>\n",
       "      <td>First Class</td>\n",
       "      <td>West</td>\n",
       "      <td>TEC-AC-10002926</td>\n",
       "      <td>Technology</td>\n",
       "      <td>Accessories</td>\n",
       "      <td>Logitech Wireless Marathon Mouse M705</td>\n",
       "      <td>299.940</td>\n",
       "      <td>6</td>\n",
       "      <td>0.0</td>\n",
       "      <td>73.078686</td>\n",
       "    </tr>\n",
       "    <tr>\n",
       "      <th>1</th>\n",
       "      <td>CA-2015-110870</td>\n",
       "      <td>12/12/2015</td>\n",
       "      <td>First Class</td>\n",
       "      <td>West</td>\n",
       "      <td>OFF-SU-10001225</td>\n",
       "      <td>Office Supplies</td>\n",
       "      <td>Supplies</td>\n",
       "      <td>Staple remover</td>\n",
       "      <td>25.760</td>\n",
       "      <td>7</td>\n",
       "      <td>0.0</td>\n",
       "      <td>7.479083</td>\n",
       "    </tr>\n",
       "    <tr>\n",
       "      <th>2</th>\n",
       "      <td>CA-2014-143210</td>\n",
       "      <td>01/12/2014</td>\n",
       "      <td>First Class</td>\n",
       "      <td>East</td>\n",
       "      <td>TEC-PH-10004434</td>\n",
       "      <td>Technology</td>\n",
       "      <td>Phones</td>\n",
       "      <td>Cisco IP Phone 7961G VoIP phone - Dark gray</td>\n",
       "      <td>271.900</td>\n",
       "      <td>2</td>\n",
       "      <td>0.0</td>\n",
       "      <td>67.572050</td>\n",
       "    </tr>\n",
       "    <tr>\n",
       "      <th>3</th>\n",
       "      <td>CA-2014-143210</td>\n",
       "      <td>01/12/2014</td>\n",
       "      <td>First Class</td>\n",
       "      <td>East</td>\n",
       "      <td>FUR-FU-10003878</td>\n",
       "      <td>Furniture</td>\n",
       "      <td>Furnishings</td>\n",
       "      <td>Linden 10\" Round Wall Clock, Black</td>\n",
       "      <td>45.840</td>\n",
       "      <td>3</td>\n",
       "      <td>0.0</td>\n",
       "      <td>17.123753</td>\n",
       "    </tr>\n",
       "    <tr>\n",
       "      <th>4</th>\n",
       "      <td>CA-2014-143210</td>\n",
       "      <td>01/12/2014</td>\n",
       "      <td>First Class</td>\n",
       "      <td>East</td>\n",
       "      <td>FUR-FU-10002268</td>\n",
       "      <td>Furniture</td>\n",
       "      <td>Furnishings</td>\n",
       "      <td>Ultra Door Push Plate</td>\n",
       "      <td>9.820</td>\n",
       "      <td>2</td>\n",
       "      <td>0.0</td>\n",
       "      <td>6.489454</td>\n",
       "    </tr>\n",
       "    <tr>\n",
       "      <th>...</th>\n",
       "      <td>...</td>\n",
       "      <td>...</td>\n",
       "      <td>...</td>\n",
       "      <td>...</td>\n",
       "      <td>...</td>\n",
       "      <td>...</td>\n",
       "      <td>...</td>\n",
       "      <td>...</td>\n",
       "      <td>...</td>\n",
       "      <td>...</td>\n",
       "      <td>...</td>\n",
       "      <td>...</td>\n",
       "    </tr>\n",
       "    <tr>\n",
       "      <th>9988</th>\n",
       "      <td>US-2015-165743</td>\n",
       "      <td>20/11/2015</td>\n",
       "      <td>Second Class</td>\n",
       "      <td>West</td>\n",
       "      <td>OFF-BI-10001758</td>\n",
       "      <td>Office Supplies</td>\n",
       "      <td>Binders</td>\n",
       "      <td>Wilson Jones 14 Line Acrylic Coated Pressboard...</td>\n",
       "      <td>9.612</td>\n",
       "      <td>6</td>\n",
       "      <td>0.7</td>\n",
       "      <td>-7.369200</td>\n",
       "    </tr>\n",
       "    <tr>\n",
       "      <th>9989</th>\n",
       "      <td>US-2017-105998</td>\n",
       "      <td>03/11/2017</td>\n",
       "      <td>First Class</td>\n",
       "      <td>West</td>\n",
       "      <td>TEC-AC-10004469</td>\n",
       "      <td>Technology</td>\n",
       "      <td>Accessories</td>\n",
       "      <td>Microsoft Sculpt Comfort Mouse</td>\n",
       "      <td>199.750</td>\n",
       "      <td>5</td>\n",
       "      <td>0.0</td>\n",
       "      <td>87.890000</td>\n",
       "    </tr>\n",
       "    <tr>\n",
       "      <th>9990</th>\n",
       "      <td>US-2017-105998</td>\n",
       "      <td>03/11/2017</td>\n",
       "      <td>First Class</td>\n",
       "      <td>West</td>\n",
       "      <td>FUR-TA-10001095</td>\n",
       "      <td>Furniture</td>\n",
       "      <td>Tables</td>\n",
       "      <td>Chromcraft Round Conference Tables</td>\n",
       "      <td>1673.184</td>\n",
       "      <td>12</td>\n",
       "      <td>0.2</td>\n",
       "      <td>20.914800</td>\n",
       "    </tr>\n",
       "    <tr>\n",
       "      <th>9991</th>\n",
       "      <td>US-2014-148194</td>\n",
       "      <td>04/05/2014</td>\n",
       "      <td>First Class</td>\n",
       "      <td>West</td>\n",
       "      <td>FUR-FU-10001852</td>\n",
       "      <td>Furniture</td>\n",
       "      <td>Furnishings</td>\n",
       "      <td>Eldon Regeneration Recycled Desk Accessories, ...</td>\n",
       "      <td>12.180</td>\n",
       "      <td>7</td>\n",
       "      <td>0.0</td>\n",
       "      <td>3.897600</td>\n",
       "    </tr>\n",
       "    <tr>\n",
       "      <th>9992</th>\n",
       "      <td>US-2014-148194</td>\n",
       "      <td>04/05/2014</td>\n",
       "      <td>First Class</td>\n",
       "      <td>West</td>\n",
       "      <td>OFF-AP-10000696</td>\n",
       "      <td>Office Supplies</td>\n",
       "      <td>Appliances</td>\n",
       "      <td>Holmes Odor Grabber</td>\n",
       "      <td>57.680</td>\n",
       "      <td>4</td>\n",
       "      <td>0.0</td>\n",
       "      <td>19.034400</td>\n",
       "    </tr>\n",
       "  </tbody>\n",
       "</table>\n",
       "<p>9993 rows × 12 columns</p>\n",
       "</div>"
      ],
      "text/plain": [
       "            Order ID  Order Date     Ship Mode Region       Product ID  \\\n",
       "0     CA-2015-110870  12/12/2015   First Class   West  TEC-AC-10002926   \n",
       "1     CA-2015-110870  12/12/2015   First Class   West  OFF-SU-10001225   \n",
       "2     CA-2014-143210  01/12/2014   First Class   East  TEC-PH-10004434   \n",
       "3     CA-2014-143210  01/12/2014   First Class   East  FUR-FU-10003878   \n",
       "4     CA-2014-143210  01/12/2014   First Class   East  FUR-FU-10002268   \n",
       "...              ...         ...           ...    ...              ...   \n",
       "9988  US-2015-165743  20/11/2015  Second Class   West  OFF-BI-10001758   \n",
       "9989  US-2017-105998  03/11/2017   First Class   West  TEC-AC-10004469   \n",
       "9990  US-2017-105998  03/11/2017   First Class   West  FUR-TA-10001095   \n",
       "9991  US-2014-148194  04/05/2014   First Class   West  FUR-FU-10001852   \n",
       "9992  US-2014-148194  04/05/2014   First Class   West  OFF-AP-10000696   \n",
       "\n",
       "             Category Sub-Category  \\\n",
       "0          Technology  Accessories   \n",
       "1     Office Supplies     Supplies   \n",
       "2          Technology       Phones   \n",
       "3           Furniture  Furnishings   \n",
       "4           Furniture  Furnishings   \n",
       "...               ...          ...   \n",
       "9988  Office Supplies      Binders   \n",
       "9989       Technology  Accessories   \n",
       "9990        Furniture       Tables   \n",
       "9991        Furniture  Furnishings   \n",
       "9992  Office Supplies   Appliances   \n",
       "\n",
       "                                           Product Name     Sales  Quantity  \\\n",
       "0                 Logitech Wireless Marathon Mouse M705   299.940         6   \n",
       "1                                        Staple remover    25.760         7   \n",
       "2           Cisco IP Phone 7961G VoIP phone - Dark gray   271.900         2   \n",
       "3                    Linden 10\" Round Wall Clock, Black    45.840         3   \n",
       "4                                 Ultra Door Push Plate     9.820         2   \n",
       "...                                                 ...       ...       ...   \n",
       "9988  Wilson Jones 14 Line Acrylic Coated Pressboard...     9.612         6   \n",
       "9989                     Microsoft Sculpt Comfort Mouse   199.750         5   \n",
       "9990                 Chromcraft Round Conference Tables  1673.184        12   \n",
       "9991  Eldon Regeneration Recycled Desk Accessories, ...    12.180         7   \n",
       "9992                                Holmes Odor Grabber    57.680         4   \n",
       "\n",
       "      Discount     Profit  \n",
       "0          0.0  73.078686  \n",
       "1          0.0   7.479083  \n",
       "2          0.0  67.572050  \n",
       "3          0.0  17.123753  \n",
       "4          0.0   6.489454  \n",
       "...        ...        ...  \n",
       "9988       0.7  -7.369200  \n",
       "9989       0.0  87.890000  \n",
       "9990       0.2  20.914800  \n",
       "9991       0.0   3.897600  \n",
       "9992       0.0  19.034400  \n",
       "\n",
       "[9993 rows x 12 columns]"
      ]
     },
     "execution_count": 39,
     "metadata": {},
     "output_type": "execute_result"
    }
   ],
   "source": [
    "office_data"
   ]
  },
  {
   "cell_type": "markdown",
   "id": "481d2daa",
   "metadata": {},
   "source": [
    "### Univariate Analysis"
   ]
  },
  {
   "cell_type": "code",
   "execution_count": 40,
   "id": "583f5832",
   "metadata": {},
   "outputs": [
    {
     "data": {
      "text/plain": [
       "CA-2017-100111    14\n",
       "CA-2017-157987    12\n",
       "US-2016-108504    11\n",
       "CA-2016-165330    11\n",
       "US-2015-126977    10\n",
       "                  ..\n",
       "CA-2016-117226     1\n",
       "CA-2016-127369     1\n",
       "CA-2016-136287     1\n",
       "US-2014-107699     1\n",
       "CA-2017-143434     1\n",
       "Name: Order ID, Length: 5008, dtype: int64"
      ]
     },
     "execution_count": 40,
     "metadata": {},
     "output_type": "execute_result"
    }
   ],
   "source": [
    "office_data['Order ID'].value_counts()"
   ]
  },
  {
   "cell_type": "code",
   "execution_count": 41,
   "id": "c1ab3f93",
   "metadata": {},
   "outputs": [
    {
     "data": {
      "text/plain": [
       "05/09/2016    38\n",
       "02/09/2017    36\n",
       "10/11/2016    35\n",
       "01/12/2017    34\n",
       "02/12/2017    34\n",
       "              ..\n",
       "14/04/2015     1\n",
       "14/06/2014     1\n",
       "28/01/2015     1\n",
       "15/01/2014     1\n",
       "20/07/2016     1\n",
       "Name: Order Date, Length: 1237, dtype: int64"
      ]
     },
     "execution_count": 41,
     "metadata": {},
     "output_type": "execute_result"
    }
   ],
   "source": [
    "office_data['Order Date'].value_counts()"
   ]
  },
  {
   "cell_type": "code",
   "execution_count": 42,
   "id": "4d368d2b",
   "metadata": {},
   "outputs": [
    {
     "data": {
      "text/plain": [
       "Standard Class    5967\n",
       "Second Class      1945\n",
       "First Class       1538\n",
       "Same Day           543\n",
       "Name: Ship Mode, dtype: int64"
      ]
     },
     "execution_count": 42,
     "metadata": {},
     "output_type": "execute_result"
    }
   ],
   "source": [
    "# Standard class = shipping within 6days\n",
    "# Second class = shipping within 3days\n",
    "# First class = shipping within 1day\n",
    "# Same day = shipping on the same day\n",
    "office_data['Ship Mode'].value_counts()"
   ]
  },
  {
   "cell_type": "code",
   "execution_count": 43,
   "id": "2726ae5b",
   "metadata": {},
   "outputs": [
    {
     "data": {
      "text/plain": [
       "West       3203\n",
       "East       2848\n",
       "Central    2322\n",
       "South      1620\n",
       "Name: Region, dtype: int64"
      ]
     },
     "execution_count": 43,
     "metadata": {},
     "output_type": "execute_result"
    }
   ],
   "source": [
    "office_data['Region'].value_counts()"
   ]
  },
  {
   "cell_type": "code",
   "execution_count": 44,
   "id": "29d44f31",
   "metadata": {},
   "outputs": [
    {
     "data": {
      "text/plain": [
       "OFF-PA-10001970    19\n",
       "TEC-AC-10003832    18\n",
       "FUR-FU-10004270    16\n",
       "TEC-AC-10003628    15\n",
       "TEC-AC-10002049    15\n",
       "                   ..\n",
       "OFF-AP-10000326     1\n",
       "OFF-ST-10001414     1\n",
       "OFF-AP-10002203     1\n",
       "TEC-MA-10003353     1\n",
       "FUR-BO-10001567     1\n",
       "Name: Product ID, Length: 1862, dtype: int64"
      ]
     },
     "execution_count": 44,
     "metadata": {},
     "output_type": "execute_result"
    }
   ],
   "source": [
    "office_data['Product ID'].value_counts()"
   ]
  },
  {
   "cell_type": "code",
   "execution_count": 45,
   "id": "55aed161",
   "metadata": {},
   "outputs": [
    {
     "data": {
      "text/plain": [
       "Office Supplies    6026\n",
       "Furniture          2121\n",
       "Technology         1846\n",
       "Name: Category, dtype: int64"
      ]
     },
     "execution_count": 45,
     "metadata": {},
     "output_type": "execute_result"
    }
   ],
   "source": [
    "office_data['Category'].value_counts()"
   ]
  },
  {
   "cell_type": "code",
   "execution_count": 46,
   "id": "8d29f6e2",
   "metadata": {},
   "outputs": [
    {
     "data": {
      "text/plain": [
       "Binders        1523\n",
       "Paper          1370\n",
       "Furnishings     957\n",
       "Phones          888\n",
       "Storage         846\n",
       "Art             796\n",
       "Accessories     775\n",
       "Chairs          617\n",
       "Appliances      466\n",
       "Labels          364\n",
       "Tables          319\n",
       "Envelopes       254\n",
       "Bookcases       228\n",
       "Fasteners       217\n",
       "Supplies        190\n",
       "Machines        115\n",
       "Copiers          68\n",
       "Name: Sub-Category, dtype: int64"
      ]
     },
     "execution_count": 46,
     "metadata": {},
     "output_type": "execute_result"
    }
   ],
   "source": [
    "office_data['Sub-Category'].value_counts()"
   ]
  },
  {
   "cell_type": "code",
   "execution_count": 47,
   "id": "2a69f39d",
   "metadata": {},
   "outputs": [
    {
     "data": {
      "text/plain": [
       "Staple envelope                                                             48\n",
       "Easy-staple paper                                                           46\n",
       "Staples                                                                     46\n",
       "Avery Non-Stick Binders                                                     20\n",
       "Staples in misc. colors                                                     19\n",
       "                                                                            ..\n",
       "Xerox 1901                                                                   1\n",
       "Pyle PRT45 Retro Home Telephone                                              1\n",
       "Lexmark X 9575 Professional All-in-One Color Printer                         1\n",
       "Hewlett-Packard Deskjet 3050a All-in-One Color Inkjet Printer                1\n",
       "Bush Westfield Collection Bookcases, Dark Cherry Finish, Fully Assembled     1\n",
       "Name: Product Name, Length: 1850, dtype: int64"
      ]
     },
     "execution_count": 47,
     "metadata": {},
     "output_type": "execute_result"
    }
   ],
   "source": [
    "office_data['Product Name'].value_counts()"
   ]
  },
  {
   "cell_type": "code",
   "execution_count": 48,
   "id": "7b5bb83f",
   "metadata": {},
   "outputs": [
    {
     "data": {
      "text/plain": [
       "Index(['Order ID', 'Order Date', 'Ship Mode', 'Region', 'Product ID',\n",
       "       'Category', 'Sub-Category', 'Product Name', 'Sales', 'Quantity',\n",
       "       'Discount', 'Profit'],\n",
       "      dtype='object')"
      ]
     },
     "execution_count": 48,
     "metadata": {},
     "output_type": "execute_result"
    }
   ],
   "source": [
    "office_data.columns"
   ]
  },
  {
   "cell_type": "code",
   "execution_count": 49,
   "id": "83f8b0e8",
   "metadata": {},
   "outputs": [
    {
     "data": {
      "text/html": [
       "<div>\n",
       "<style scoped>\n",
       "    .dataframe tbody tr th:only-of-type {\n",
       "        vertical-align: middle;\n",
       "    }\n",
       "\n",
       "    .dataframe tbody tr th {\n",
       "        vertical-align: top;\n",
       "    }\n",
       "\n",
       "    .dataframe thead th {\n",
       "        text-align: right;\n",
       "    }\n",
       "</style>\n",
       "<table border=\"1\" class=\"dataframe\">\n",
       "  <thead>\n",
       "    <tr style=\"text-align: right;\">\n",
       "      <th></th>\n",
       "      <th>Sales</th>\n",
       "      <th>Quantity</th>\n",
       "      <th>Discount</th>\n",
       "      <th>Profit</th>\n",
       "    </tr>\n",
       "  </thead>\n",
       "  <tbody>\n",
       "    <tr>\n",
       "      <th>count</th>\n",
       "      <td>9993.000000</td>\n",
       "      <td>9993.000000</td>\n",
       "      <td>9993.000000</td>\n",
       "      <td>9993.000000</td>\n",
       "    </tr>\n",
       "    <tr>\n",
       "      <th>mean</th>\n",
       "      <td>229.854588</td>\n",
       "      <td>3.789553</td>\n",
       "      <td>0.156218</td>\n",
       "      <td>27.938756</td>\n",
       "    </tr>\n",
       "    <tr>\n",
       "      <th>std</th>\n",
       "      <td>623.276194</td>\n",
       "      <td>2.225220</td>\n",
       "      <td>0.206456</td>\n",
       "      <td>219.363509</td>\n",
       "    </tr>\n",
       "    <tr>\n",
       "      <th>min</th>\n",
       "      <td>0.444000</td>\n",
       "      <td>1.000000</td>\n",
       "      <td>0.000000</td>\n",
       "      <td>-6599.978000</td>\n",
       "    </tr>\n",
       "    <tr>\n",
       "      <th>25%</th>\n",
       "      <td>17.280000</td>\n",
       "      <td>2.000000</td>\n",
       "      <td>0.000000</td>\n",
       "      <td>2.205000</td>\n",
       "    </tr>\n",
       "    <tr>\n",
       "      <th>50%</th>\n",
       "      <td>54.480000</td>\n",
       "      <td>3.000000</td>\n",
       "      <td>0.200000</td>\n",
       "      <td>8.878400</td>\n",
       "    </tr>\n",
       "    <tr>\n",
       "      <th>75%</th>\n",
       "      <td>209.940000</td>\n",
       "      <td>5.000000</td>\n",
       "      <td>0.200000</td>\n",
       "      <td>29.013600</td>\n",
       "    </tr>\n",
       "    <tr>\n",
       "      <th>max</th>\n",
       "      <td>22638.480000</td>\n",
       "      <td>14.000000</td>\n",
       "      <td>0.800000</td>\n",
       "      <td>8399.976000</td>\n",
       "    </tr>\n",
       "  </tbody>\n",
       "</table>\n",
       "</div>"
      ],
      "text/plain": [
       "              Sales     Quantity     Discount       Profit\n",
       "count   9993.000000  9993.000000  9993.000000  9993.000000\n",
       "mean     229.854588     3.789553     0.156218    27.938756\n",
       "std      623.276194     2.225220     0.206456   219.363509\n",
       "min        0.444000     1.000000     0.000000 -6599.978000\n",
       "25%       17.280000     2.000000     0.000000     2.205000\n",
       "50%       54.480000     3.000000     0.200000     8.878400\n",
       "75%      209.940000     5.000000     0.200000    29.013600\n",
       "max    22638.480000    14.000000     0.800000  8399.976000"
      ]
     },
     "execution_count": 49,
     "metadata": {},
     "output_type": "execute_result"
    }
   ],
   "source": [
    "office_data[['Sales', 'Quantity','Discount', 'Profit']].describe()"
   ]
  },
  {
   "cell_type": "code",
   "execution_count": 50,
   "id": "cdb8c443",
   "metadata": {},
   "outputs": [
    {
     "data": {
      "image/png": "[encoded data removed]",
      "text/plain": [
       "<Figure size 432x288 with 1 Axes>"
      ]
     },
     "metadata": {
      "needs_background": "light"
     },
     "output_type": "display_data"
    }
   ],
   "source": [
    "plt.hist(office_data['Sales'], bins = 60)\n",
    "plt.show()"
   ]
  },
  {
   "cell_type": "code",
   "execution_count": 51,
   "id": "ecbc8957",
   "metadata": {},
   "outputs": [
    {
     "data": {
      "image/png": "[encoded data removed]",
      "text/plain": [
       "<Figure size 432x288 with 1 Axes>"
      ]
     },
     "metadata": {
      "needs_background": "light"
     },
     "output_type": "display_data"
    }
   ],
   "source": [
    "plt.boxplot(office_data['Sales'])\n",
    "plt.show()"
   ]
  },
  {
   "cell_type": "code",
   "execution_count": 52,
   "id": "8275e187",
   "metadata": {},
   "outputs": [
    {
     "data": {
      "text/plain": [
       "7494"
      ]
     },
     "execution_count": 52,
     "metadata": {},
     "output_type": "execute_result"
    }
   ],
   "source": [
    "len(office_data[office_data['Sales'] < 209.940000])"
   ]
  },
  {
   "cell_type": "code",
   "execution_count": 53,
   "id": "fdcae577",
   "metadata": {},
   "outputs": [
    {
     "data": {
      "text/plain": [
       "0.7499249474632242"
      ]
     },
     "execution_count": 53,
     "metadata": {},
     "output_type": "execute_result"
    }
   ],
   "source": [
    "# above 75th sales\n",
    "7494/9993"
   ]
  },
  {
   "cell_type": "code",
   "execution_count": 54,
   "id": "1a2ba35f",
   "metadata": {},
   "outputs": [
    {
     "data": {
      "text/plain": [
       "192.66"
      ]
     },
     "execution_count": 54,
     "metadata": {},
     "output_type": "execute_result"
    }
   ],
   "source": [
    "# IQR\n",
    "209.940000 - 17.280000"
   ]
  },
  {
   "cell_type": "code",
   "execution_count": 55,
   "id": "6299f0ad",
   "metadata": {},
   "outputs": [
    {
     "data": {
      "text/plain": [
       "288.99"
      ]
     },
     "execution_count": 55,
     "metadata": {},
     "output_type": "execute_result"
    }
   ],
   "source": [
    "1.5 *(209.940000 - 17.280000)"
   ]
  },
  {
   "cell_type": "code",
   "execution_count": 56,
   "id": "b0f477ae",
   "metadata": {},
   "outputs": [
    {
     "data": {
      "text/plain": [
       "498.93"
      ]
     },
     "execution_count": 56,
     "metadata": {},
     "output_type": "execute_result"
    }
   ],
   "source": [
    "# find the outlier range above Q3\n",
    "209.940000 + 288.99"
   ]
  },
  {
   "cell_type": "code",
   "execution_count": 57,
   "id": "4e6e18d8",
   "metadata": {},
   "outputs": [
    {
     "data": {
      "text/plain": [
       "8826"
      ]
     },
     "execution_count": 57,
     "metadata": {},
     "output_type": "execute_result"
    }
   ],
   "source": [
    "len(office_data[office_data['Sales'] < 498.93])"
   ]
  },
  {
   "cell_type": "code",
   "execution_count": 58,
   "id": "45a54e5c",
   "metadata": {},
   "outputs": [
    {
     "data": {
      "text/plain": [
       "1332"
      ]
     },
     "execution_count": 58,
     "metadata": {},
     "output_type": "execute_result"
    }
   ],
   "source": [
    "8826 - 7494"
   ]
  },
  {
   "cell_type": "code",
   "execution_count": 59,
   "id": "d2ffc7db",
   "metadata": {},
   "outputs": [
    {
     "data": {
      "text/plain": [
       "0.8832182527769439"
      ]
     },
     "execution_count": 59,
     "metadata": {},
     "output_type": "execute_result"
    }
   ],
   "source": [
    "8826/9993"
   ]
  },
  {
   "cell_type": "code",
   "execution_count": 60,
   "id": "13565aab",
   "metadata": {},
   "outputs": [
    {
     "data": {
      "text/plain": [
       "1167"
      ]
     },
     "execution_count": 60,
     "metadata": {},
     "output_type": "execute_result"
    }
   ],
   "source": [
    "9993 - 8826"
   ]
  },
  {
   "cell_type": "code",
   "execution_count": 61,
   "id": "8aa84792",
   "metadata": {},
   "outputs": [
    {
     "data": {
      "image/png": "[encoded data removed]",
      "text/plain": [
       "<Figure size 432x288 with 1 Axes>"
      ]
     },
     "metadata": {
      "needs_background": "light"
     },
     "output_type": "display_data"
    }
   ],
   "source": [
    "#Quanity\n",
    "plt.hist(office_data['Quantity'], bins = 60)\n",
    "plt.show()"
   ]
  },
  {
   "cell_type": "code",
   "execution_count": 62,
   "id": "4ee90a4d",
   "metadata": {
    "scrolled": true
   },
   "outputs": [
    {
     "data": {
      "text/plain": [
       "3     2409\n",
       "2     2402\n",
       "5     1230\n",
       "4     1190\n",
       "1      899\n",
       "7      606\n",
       "6      572\n",
       "9      258\n",
       "8      257\n",
       "10      57\n",
       "11      34\n",
       "14      29\n",
       "13      27\n",
       "12      23\n",
       "Name: Quantity, dtype: int64"
      ]
     },
     "execution_count": 62,
     "metadata": {},
     "output_type": "execute_result"
    }
   ],
   "source": [
    "office_data['Quantity'].value_counts()"
   ]
  },
  {
   "cell_type": "code",
   "execution_count": 63,
   "id": "5cb799bf",
   "metadata": {},
   "outputs": [
    {
     "data": {
      "image/png": "[encoded data removed]",
      "text/plain": [
       "<Figure size 432x288 with 1 Axes>"
      ]
     },
     "metadata": {
      "needs_background": "light"
     },
     "output_type": "display_data"
    }
   ],
   "source": [
    "# Discount\n",
    "plt.hist(office_data['Discount'], bins = 60)\n",
    "plt.show()"
   ]
  },
  {
   "cell_type": "code",
   "execution_count": 64,
   "id": "8979f72f",
   "metadata": {},
   "outputs": [
    {
     "data": {
      "text/plain": [
       "0.00    4797\n",
       "0.20    3657\n",
       "0.70     418\n",
       "0.80     300\n",
       "0.30     227\n",
       "0.40     206\n",
       "0.60     138\n",
       "0.10      94\n",
       "0.50      66\n",
       "0.15      52\n",
       "0.32      27\n",
       "0.45      11\n",
       "Name: Discount, dtype: int64"
      ]
     },
     "execution_count": 64,
     "metadata": {},
     "output_type": "execute_result"
    }
   ],
   "source": [
    "office_data['Discount'].value_counts()"
   ]
  },
  {
   "cell_type": "code",
   "execution_count": 65,
   "id": "82c12e78",
   "metadata": {
    "scrolled": true
   },
   "outputs": [
    {
     "data": {
      "image/png": "[encoded data removed]",
      "text/plain": [
       "<Figure size 432x288 with 1 Axes>"
      ]
     },
     "metadata": {
      "needs_background": "light"
     },
     "output_type": "display_data"
    }
   ],
   "source": [
    "# Discount\n",
    "plt.hist(office_data['Profit'], bins = 10)\n",
    "plt.show()"
   ]
  },
  {
   "cell_type": "code",
   "execution_count": 66,
   "id": "60444019",
   "metadata": {},
   "outputs": [],
   "source": [
    "positive_profit = office_data[office_data['Profit'] >= 0]"
   ]
  },
  {
   "cell_type": "code",
   "execution_count": 67,
   "id": "1d8a33c5",
   "metadata": {},
   "outputs": [
    {
     "data": {
      "text/html": [
       "<div>\n",
       "<style scoped>\n",
       "    .dataframe tbody tr th:only-of-type {\n",
       "        vertical-align: middle;\n",
       "    }\n",
       "\n",
       "    .dataframe tbody tr th {\n",
       "        vertical-align: top;\n",
       "    }\n",
       "\n",
       "    .dataframe thead th {\n",
       "        text-align: right;\n",
       "    }\n",
       "</style>\n",
       "<table border=\"1\" class=\"dataframe\">\n",
       "  <thead>\n",
       "    <tr style=\"text-align: right;\">\n",
       "      <th></th>\n",
       "      <th>Sales</th>\n",
       "      <th>Quantity</th>\n",
       "      <th>Discount</th>\n",
       "      <th>Profit</th>\n",
       "    </tr>\n",
       "  </thead>\n",
       "  <tbody>\n",
       "    <tr>\n",
       "      <th>count</th>\n",
       "      <td>8207.000000</td>\n",
       "      <td>8207.000000</td>\n",
       "      <td>8207.000000</td>\n",
       "      <td>8207.000000</td>\n",
       "    </tr>\n",
       "    <tr>\n",
       "      <th>mean</th>\n",
       "      <td>224.742561</td>\n",
       "      <td>3.793713</td>\n",
       "      <td>0.082454</td>\n",
       "      <td>52.575083</td>\n",
       "    </tr>\n",
       "    <tr>\n",
       "      <th>std</th>\n",
       "      <td>595.369185</td>\n",
       "      <td>2.241722</td>\n",
       "      <td>0.099044</td>\n",
       "      <td>194.115858</td>\n",
       "    </tr>\n",
       "    <tr>\n",
       "      <th>min</th>\n",
       "      <td>0.990000</td>\n",
       "      <td>1.000000</td>\n",
       "      <td>0.000000</td>\n",
       "      <td>0.000000</td>\n",
       "    </tr>\n",
       "    <tr>\n",
       "      <th>25%</th>\n",
       "      <td>18.268000</td>\n",
       "      <td>2.000000</td>\n",
       "      <td>0.000000</td>\n",
       "      <td>5.563200</td>\n",
       "    </tr>\n",
       "    <tr>\n",
       "      <th>50%</th>\n",
       "      <td>52.416000</td>\n",
       "      <td>3.000000</td>\n",
       "      <td>0.000000</td>\n",
       "      <td>12.697707</td>\n",
       "    </tr>\n",
       "    <tr>\n",
       "      <th>75%</th>\n",
       "      <td>196.662000</td>\n",
       "      <td>5.000000</td>\n",
       "      <td>0.200000</td>\n",
       "      <td>38.992500</td>\n",
       "    </tr>\n",
       "    <tr>\n",
       "      <th>max</th>\n",
       "      <td>17499.950000</td>\n",
       "      <td>14.000000</td>\n",
       "      <td>0.400000</td>\n",
       "      <td>8399.976000</td>\n",
       "    </tr>\n",
       "  </tbody>\n",
       "</table>\n",
       "</div>"
      ],
      "text/plain": [
       "              Sales     Quantity     Discount       Profit\n",
       "count   8207.000000  8207.000000  8207.000000  8207.000000\n",
       "mean     224.742561     3.793713     0.082454    52.575083\n",
       "std      595.369185     2.241722     0.099044   194.115858\n",
       "min        0.990000     1.000000     0.000000     0.000000\n",
       "25%       18.268000     2.000000     0.000000     5.563200\n",
       "50%       52.416000     3.000000     0.000000    12.697707\n",
       "75%      196.662000     5.000000     0.200000    38.992500\n",
       "max    17499.950000    14.000000     0.400000  8399.976000"
      ]
     },
     "execution_count": 67,
     "metadata": {},
     "output_type": "execute_result"
    }
   ],
   "source": [
    "positive_profit.describe()"
   ]
  },
  {
   "cell_type": "code",
   "execution_count": 68,
   "id": "34778734",
   "metadata": {},
   "outputs": [
    {
     "data": {
      "image/png": "[encoded data removed]",
      "text/plain": [
       "<Figure size 432x288 with 1 Axes>"
      ]
     },
     "metadata": {
      "needs_background": "light"
     },
     "output_type": "display_data"
    }
   ],
   "source": [
    "plt.boxplot(positive_profit['Profit'])\n",
    "plt.show()"
   ]
  },
  {
   "cell_type": "code",
   "execution_count": 69,
   "id": "35ab443e",
   "metadata": {},
   "outputs": [
    {
     "data": {
      "text/plain": [
       "6155"
      ]
     },
     "execution_count": 69,
     "metadata": {},
     "output_type": "execute_result"
    }
   ],
   "source": [
    "# below 75\n",
    "len(positive_profit[positive_profit['Profit'] < 38.992500])"
   ]
  },
  {
   "cell_type": "code",
   "execution_count": 70,
   "id": "e751014c",
   "metadata": {},
   "outputs": [
    {
     "data": {
      "text/plain": [
       "0.7499695381990983"
      ]
     },
     "execution_count": 70,
     "metadata": {},
     "output_type": "execute_result"
    }
   ],
   "source": [
    "# above 75th Profit\n",
    "6155/8207"
   ]
  },
  {
   "cell_type": "code",
   "execution_count": 72,
   "id": "78b0b54a",
   "metadata": {},
   "outputs": [
    {
     "data": {
      "text/plain": [
       "33.4293"
      ]
     },
     "execution_count": 72,
     "metadata": {},
     "output_type": "execute_result"
    }
   ],
   "source": [
    "# IQR\n",
    "38.992500 - 5.563200"
   ]
  },
  {
   "cell_type": "code",
   "execution_count": 73,
   "id": "699a271f",
   "metadata": {},
   "outputs": [
    {
     "data": {
      "text/plain": [
       "50.14395"
      ]
     },
     "execution_count": 73,
     "metadata": {},
     "output_type": "execute_result"
    }
   ],
   "source": [
    "1.5 *(38.992500 - 5.563200)"
   ]
  },
  {
   "cell_type": "code",
   "execution_count": 74,
   "id": "17863059",
   "metadata": {},
   "outputs": [
    {
     "data": {
      "text/plain": [
       "89.13645"
      ]
     },
     "execution_count": 74,
     "metadata": {},
     "output_type": "execute_result"
    }
   ],
   "source": [
    "# find the outlier range above Q3\n",
    "38.992500 + 50.14395"
   ]
  },
  {
   "cell_type": "code",
   "execution_count": 75,
   "id": "666d083a",
   "metadata": {},
   "outputs": [
    {
     "data": {
      "text/plain": [
       "7229"
      ]
     },
     "execution_count": 75,
     "metadata": {},
     "output_type": "execute_result"
    }
   ],
   "source": [
    "# below 100\n",
    "len(positive_profit[positive_profit['Profit'] < 89.13645])"
   ]
  },
  {
   "cell_type": "code",
   "execution_count": 77,
   "id": "ac194c4e",
   "metadata": {},
   "outputs": [
    {
     "data": {
      "text/plain": [
       "1074"
      ]
     },
     "execution_count": 77,
     "metadata": {},
     "output_type": "execute_result"
    }
   ],
   "source": [
    "# between 100 and 75\n",
    "7229 - 6155"
   ]
  },
  {
   "cell_type": "code",
   "execution_count": 103,
   "id": "77f635b8",
   "metadata": {},
   "outputs": [
    {
     "data": {
      "text/plain": [
       "0.8808334348726696"
      ]
     },
     "execution_count": 103,
     "metadata": {},
     "output_type": "execute_result"
    }
   ],
   "source": [
    "# above 100th Profit\n",
    "7229/8207"
   ]
  },
  {
   "cell_type": "code",
   "execution_count": 78,
   "id": "38791c94",
   "metadata": {},
   "outputs": [
    {
     "data": {
      "text/plain": [
       "978"
      ]
     },
     "execution_count": 78,
     "metadata": {},
     "output_type": "execute_result"
    }
   ],
   "source": [
    "8207 - 7229"
   ]
  },
  {
   "cell_type": "code",
   "execution_count": null,
   "id": "a37bfa08",
   "metadata": {},
   "outputs": [],
   "source": []
  },
  {
   "cell_type": "code",
   "execution_count": 83,
   "id": "c30c4cb1",
   "metadata": {},
   "outputs": [],
   "source": [
    "negative_profit = office_data[office_data['Profit'] < 0]"
   ]
  },
  {
   "cell_type": "code",
   "execution_count": 84,
   "id": "a346bbf8",
   "metadata": {},
   "outputs": [
    {
     "data": {
      "text/html": [
       "<div>\n",
       "<style scoped>\n",
       "    .dataframe tbody tr th:only-of-type {\n",
       "        vertical-align: middle;\n",
       "    }\n",
       "\n",
       "    .dataframe tbody tr th {\n",
       "        vertical-align: top;\n",
       "    }\n",
       "\n",
       "    .dataframe thead th {\n",
       "        text-align: right;\n",
       "    }\n",
       "</style>\n",
       "<table border=\"1\" class=\"dataframe\">\n",
       "  <thead>\n",
       "    <tr style=\"text-align: right;\">\n",
       "      <th></th>\n",
       "      <th>Sales</th>\n",
       "      <th>Quantity</th>\n",
       "      <th>Discount</th>\n",
       "      <th>Profit</th>\n",
       "    </tr>\n",
       "  </thead>\n",
       "  <tbody>\n",
       "    <tr>\n",
       "      <th>count</th>\n",
       "      <td>1786.000000</td>\n",
       "      <td>1786.000000</td>\n",
       "      <td>1786.000000</td>\n",
       "      <td>1786.000000</td>\n",
       "    </tr>\n",
       "    <tr>\n",
       "      <th>mean</th>\n",
       "      <td>253.345300</td>\n",
       "      <td>3.770437</td>\n",
       "      <td>0.495179</td>\n",
       "      <td>-85.269722</td>\n",
       "    </tr>\n",
       "    <tr>\n",
       "      <th>std</th>\n",
       "      <td>737.809965</td>\n",
       "      <td>2.148269</td>\n",
       "      <td>0.231359</td>\n",
       "      <td>283.769771</td>\n",
       "    </tr>\n",
       "    <tr>\n",
       "      <th>min</th>\n",
       "      <td>0.444000</td>\n",
       "      <td>1.000000</td>\n",
       "      <td>0.100000</td>\n",
       "      <td>-6599.978000</td>\n",
       "    </tr>\n",
       "    <tr>\n",
       "      <th>25%</th>\n",
       "      <td>11.319000</td>\n",
       "      <td>2.000000</td>\n",
       "      <td>0.300000</td>\n",
       "      <td>-58.674075</td>\n",
       "    </tr>\n",
       "    <tr>\n",
       "      <th>50%</th>\n",
       "      <td>65.776000</td>\n",
       "      <td>3.000000</td>\n",
       "      <td>0.500000</td>\n",
       "      <td>-18.801400</td>\n",
       "    </tr>\n",
       "    <tr>\n",
       "      <th>75%</th>\n",
       "      <td>281.372000</td>\n",
       "      <td>5.000000</td>\n",
       "      <td>0.700000</td>\n",
       "      <td>-7.306925</td>\n",
       "    </tr>\n",
       "    <tr>\n",
       "      <th>max</th>\n",
       "      <td>22638.480000</td>\n",
       "      <td>14.000000</td>\n",
       "      <td>0.800000</td>\n",
       "      <td>-0.089500</td>\n",
       "    </tr>\n",
       "  </tbody>\n",
       "</table>\n",
       "</div>"
      ],
      "text/plain": [
       "              Sales     Quantity     Discount       Profit\n",
       "count   1786.000000  1786.000000  1786.000000  1786.000000\n",
       "mean     253.345300     3.770437     0.495179   -85.269722\n",
       "std      737.809965     2.148269     0.231359   283.769771\n",
       "min        0.444000     1.000000     0.100000 -6599.978000\n",
       "25%       11.319000     2.000000     0.300000   -58.674075\n",
       "50%       65.776000     3.000000     0.500000   -18.801400\n",
       "75%      281.372000     5.000000     0.700000    -7.306925\n",
       "max    22638.480000    14.000000     0.800000    -0.089500"
      ]
     },
     "execution_count": 84,
     "metadata": {},
     "output_type": "execute_result"
    }
   ],
   "source": [
    "negative_profit.describe()"
   ]
  },
  {
   "cell_type": "code",
   "execution_count": 85,
   "id": "0831ebde",
   "metadata": {},
   "outputs": [
    {
     "data": {
      "image/png": "[encoded data removed]",
      "text/plain": [
       "<Figure size 432x288 with 1 Axes>"
      ]
     },
     "metadata": {
      "needs_background": "light"
     },
     "output_type": "display_data"
    }
   ],
   "source": [
    "plt.boxplot(negative_profit['Profit'])\n",
    "plt.show()"
   ]
  },
  {
   "cell_type": "code",
   "execution_count": 95,
   "id": "03838ef0",
   "metadata": {},
   "outputs": [
    {
     "data": {
      "text/plain": [
       "447"
      ]
     },
     "execution_count": 95,
     "metadata": {},
     "output_type": "execute_result"
    }
   ],
   "source": [
    "# below 75\n",
    "len(negative_profit[negative_profit['Profit'] > -7.306925])"
   ]
  },
  {
   "cell_type": "code",
   "execution_count": 96,
   "id": "3f826528",
   "metadata": {},
   "outputs": [
    {
     "data": {
      "text/plain": [
       "0.25027995520716684"
      ]
     },
     "execution_count": 96,
     "metadata": {},
     "output_type": "execute_result"
    }
   ],
   "source": [
    "# above 75th Profit\n",
    "447/1786"
   ]
  },
  {
   "cell_type": "code",
   "execution_count": 91,
   "id": "19ea331b",
   "metadata": {},
   "outputs": [
    {
     "data": {
      "text/plain": [
       "-51.36715"
      ]
     },
     "execution_count": 91,
     "metadata": {},
     "output_type": "execute_result"
    }
   ],
   "source": [
    "# IQR\n",
    "-58.674075 - -7.306925 "
   ]
  },
  {
   "cell_type": "code",
   "execution_count": 92,
   "id": "8cc40e03",
   "metadata": {},
   "outputs": [
    {
     "data": {
      "text/plain": [
       "-77.050725"
      ]
     },
     "execution_count": 92,
     "metadata": {},
     "output_type": "execute_result"
    }
   ],
   "source": [
    "1.5 *(-58.674075 - -7.306925 )"
   ]
  },
  {
   "cell_type": "code",
   "execution_count": 97,
   "id": "8e2cac98",
   "metadata": {},
   "outputs": [
    {
     "data": {
      "text/plain": [
       "-84.35765"
      ]
     },
     "execution_count": 97,
     "metadata": {},
     "output_type": "execute_result"
    }
   ],
   "source": [
    "# find the outlier range above Q3\n",
    "-7.306925 + -77.050725"
   ]
  },
  {
   "cell_type": "code",
   "execution_count": 98,
   "id": "1cbef309",
   "metadata": {},
   "outputs": [
    {
     "data": {
      "text/plain": [
       "1434"
      ]
     },
     "execution_count": 98,
     "metadata": {},
     "output_type": "execute_result"
    }
   ],
   "source": [
    "# below 100\n",
    "len(negative_profit[negative_profit['Profit'] > -84.35765])"
   ]
  },
  {
   "cell_type": "code",
   "execution_count": 99,
   "id": "9d1dc9cb",
   "metadata": {},
   "outputs": [
    {
     "data": {
      "text/plain": [
       "987"
      ]
     },
     "execution_count": 99,
     "metadata": {},
     "output_type": "execute_result"
    }
   ],
   "source": [
    "# between 100 and 75\n",
    "1434 - 447"
   ]
  },
  {
   "cell_type": "code",
   "execution_count": 101,
   "id": "34232b3a",
   "metadata": {},
   "outputs": [
    {
     "data": {
      "text/plain": [
       "0.8029115341545353"
      ]
     },
     "execution_count": 101,
     "metadata": {},
     "output_type": "execute_result"
    }
   ],
   "source": [
    "# above 100th Profit\n",
    "1434/1786"
   ]
  },
  {
   "cell_type": "code",
   "execution_count": 102,
   "id": "7b0d0e63",
   "metadata": {},
   "outputs": [
    {
     "data": {
      "text/plain": [
       "352"
      ]
     },
     "execution_count": 102,
     "metadata": {},
     "output_type": "execute_result"
    }
   ],
   "source": [
    "1786 - 1434"
   ]
  },
  {
   "cell_type": "markdown",
   "id": "8913e442",
   "metadata": {},
   "source": [
    "#### Multivariate Analysis"
   ]
  },
  {
   "cell_type": "code",
   "execution_count": 105,
   "id": "b7061b57",
   "metadata": {},
   "outputs": [
    {
     "data": {
      "text/html": [
       "<div>\n",
       "<style scoped>\n",
       "    .dataframe tbody tr th:only-of-type {\n",
       "        vertical-align: middle;\n",
       "    }\n",
       "\n",
       "    .dataframe tbody tr th {\n",
       "        vertical-align: top;\n",
       "    }\n",
       "\n",
       "    .dataframe thead th {\n",
       "        text-align: right;\n",
       "    }\n",
       "</style>\n",
       "<table border=\"1\" class=\"dataframe\">\n",
       "  <thead>\n",
       "    <tr style=\"text-align: right;\">\n",
       "      <th></th>\n",
       "      <th>Order ID</th>\n",
       "      <th>Order Date</th>\n",
       "      <th>Ship Mode</th>\n",
       "      <th>Region</th>\n",
       "      <th>Product ID</th>\n",
       "      <th>Category</th>\n",
       "      <th>Sub-Category</th>\n",
       "      <th>Product Name</th>\n",
       "      <th>Sales</th>\n",
       "      <th>Quantity</th>\n",
       "      <th>Discount</th>\n",
       "      <th>Profit</th>\n",
       "    </tr>\n",
       "  </thead>\n",
       "  <tbody>\n",
       "    <tr>\n",
       "      <th>9</th>\n",
       "      <td>CA-2014-127859</td>\n",
       "      <td>17/03/2014</td>\n",
       "      <td>Second Class</td>\n",
       "      <td>East</td>\n",
       "      <td>OFF-PA-10003641</td>\n",
       "      <td>Office Supplies</td>\n",
       "      <td>Paper</td>\n",
       "      <td>Xerox 1909</td>\n",
       "      <td>126.624</td>\n",
       "      <td>6</td>\n",
       "      <td>0.2</td>\n",
       "      <td>37.463922</td>\n",
       "    </tr>\n",
       "    <tr>\n",
       "      <th>183</th>\n",
       "      <td>US-2017-101721</td>\n",
       "      <td>23/07/2017</td>\n",
       "      <td>Standard Class</td>\n",
       "      <td>Central</td>\n",
       "      <td>OFF-PA-10003641</td>\n",
       "      <td>Office Supplies</td>\n",
       "      <td>Paper</td>\n",
       "      <td>Xerox 1909</td>\n",
       "      <td>63.312</td>\n",
       "      <td>3</td>\n",
       "      <td>0.2</td>\n",
       "      <td>20.833660</td>\n",
       "    </tr>\n",
       "    <tr>\n",
       "      <th>1322</th>\n",
       "      <td>CA-2017-121853</td>\n",
       "      <td>23/09/2017</td>\n",
       "      <td>Standard Class</td>\n",
       "      <td>West</td>\n",
       "      <td>OFF-PA-10003641</td>\n",
       "      <td>Office Supplies</td>\n",
       "      <td>Paper</td>\n",
       "      <td>Xerox 1909</td>\n",
       "      <td>211.040</td>\n",
       "      <td>8</td>\n",
       "      <td>0.0</td>\n",
       "      <td>82.456652</td>\n",
       "    </tr>\n",
       "    <tr>\n",
       "      <th>3350</th>\n",
       "      <td>CA-2016-145247</td>\n",
       "      <td>05/05/2016</td>\n",
       "      <td>First Class</td>\n",
       "      <td>South</td>\n",
       "      <td>OFF-PA-10003641</td>\n",
       "      <td>Office Supplies</td>\n",
       "      <td>Paper</td>\n",
       "      <td>Xerox 1909</td>\n",
       "      <td>79.140</td>\n",
       "      <td>3</td>\n",
       "      <td>0.0</td>\n",
       "      <td>36.404400</td>\n",
       "    </tr>\n",
       "    <tr>\n",
       "      <th>6948</th>\n",
       "      <td>CA-2014-160262</td>\n",
       "      <td>09/06/2014</td>\n",
       "      <td>Second Class</td>\n",
       "      <td>West</td>\n",
       "      <td>OFF-PA-10003641</td>\n",
       "      <td>Office Supplies</td>\n",
       "      <td>Paper</td>\n",
       "      <td>Xerox 1909</td>\n",
       "      <td>79.140</td>\n",
       "      <td>3</td>\n",
       "      <td>0.0</td>\n",
       "      <td>36.404400</td>\n",
       "    </tr>\n",
       "    <tr>\n",
       "      <th>7271</th>\n",
       "      <td>CA-2014-159681</td>\n",
       "      <td>07/12/2014</td>\n",
       "      <td>Standard Class</td>\n",
       "      <td>South</td>\n",
       "      <td>OFF-PA-10003641</td>\n",
       "      <td>Office Supplies</td>\n",
       "      <td>Paper</td>\n",
       "      <td>Xerox 1909</td>\n",
       "      <td>105.520</td>\n",
       "      <td>4</td>\n",
       "      <td>0.0</td>\n",
       "      <td>48.539200</td>\n",
       "    </tr>\n",
       "    <tr>\n",
       "      <th>9549</th>\n",
       "      <td>CA-2017-159506</td>\n",
       "      <td>27/11/2017</td>\n",
       "      <td>Standard Class</td>\n",
       "      <td>Central</td>\n",
       "      <td>OFF-PA-10003641</td>\n",
       "      <td>Office Supplies</td>\n",
       "      <td>Paper</td>\n",
       "      <td>Xerox 1909</td>\n",
       "      <td>158.280</td>\n",
       "      <td>6</td>\n",
       "      <td>0.0</td>\n",
       "      <td>72.808800</td>\n",
       "    </tr>\n",
       "    <tr>\n",
       "      <th>9753</th>\n",
       "      <td>CA-2014-155390</td>\n",
       "      <td>06/12/2014</td>\n",
       "      <td>Standard Class</td>\n",
       "      <td>South</td>\n",
       "      <td>OFF-PA-10003641</td>\n",
       "      <td>Office Supplies</td>\n",
       "      <td>Paper</td>\n",
       "      <td>Xerox 1909</td>\n",
       "      <td>42.208</td>\n",
       "      <td>2</td>\n",
       "      <td>0.2</td>\n",
       "      <td>13.717600</td>\n",
       "    </tr>\n",
       "    <tr>\n",
       "      <th>9925</th>\n",
       "      <td>US-2016-168095</td>\n",
       "      <td>15/07/2016</td>\n",
       "      <td>Standard Class</td>\n",
       "      <td>West</td>\n",
       "      <td>OFF-PA-10003641</td>\n",
       "      <td>Office Supplies</td>\n",
       "      <td>Paper</td>\n",
       "      <td>Xerox 1909</td>\n",
       "      <td>105.520</td>\n",
       "      <td>5</td>\n",
       "      <td>0.2</td>\n",
       "      <td>34.294000</td>\n",
       "    </tr>\n",
       "  </tbody>\n",
       "</table>\n",
       "</div>"
      ],
      "text/plain": [
       "            Order ID  Order Date       Ship Mode   Region       Product ID  \\\n",
       "9     CA-2014-127859  17/03/2014    Second Class     East  OFF-PA-10003641   \n",
       "183   US-2017-101721  23/07/2017  Standard Class  Central  OFF-PA-10003641   \n",
       "1322  CA-2017-121853  23/09/2017  Standard Class     West  OFF-PA-10003641   \n",
       "3350  CA-2016-145247  05/05/2016     First Class    South  OFF-PA-10003641   \n",
       "6948  CA-2014-160262  09/06/2014    Second Class     West  OFF-PA-10003641   \n",
       "7271  CA-2014-159681  07/12/2014  Standard Class    South  OFF-PA-10003641   \n",
       "9549  CA-2017-159506  27/11/2017  Standard Class  Central  OFF-PA-10003641   \n",
       "9753  CA-2014-155390  06/12/2014  Standard Class    South  OFF-PA-10003641   \n",
       "9925  US-2016-168095  15/07/2016  Standard Class     West  OFF-PA-10003641   \n",
       "\n",
       "             Category Sub-Category Product Name    Sales  Quantity  Discount  \\\n",
       "9     Office Supplies        Paper   Xerox 1909  126.624         6       0.2   \n",
       "183   Office Supplies        Paper   Xerox 1909   63.312         3       0.2   \n",
       "1322  Office Supplies        Paper   Xerox 1909  211.040         8       0.0   \n",
       "3350  Office Supplies        Paper   Xerox 1909   79.140         3       0.0   \n",
       "6948  Office Supplies        Paper   Xerox 1909   79.140         3       0.0   \n",
       "7271  Office Supplies        Paper   Xerox 1909  105.520         4       0.0   \n",
       "9549  Office Supplies        Paper   Xerox 1909  158.280         6       0.0   \n",
       "9753  Office Supplies        Paper   Xerox 1909   42.208         2       0.2   \n",
       "9925  Office Supplies        Paper   Xerox 1909  105.520         5       0.2   \n",
       "\n",
       "         Profit  \n",
       "9     37.463922  \n",
       "183   20.833660  \n",
       "1322  82.456652  \n",
       "3350  36.404400  \n",
       "6948  36.404400  \n",
       "7271  48.539200  \n",
       "9549  72.808800  \n",
       "9753  13.717600  \n",
       "9925  34.294000  "
      ]
     },
     "execution_count": 105,
     "metadata": {},
     "output_type": "execute_result"
    }
   ],
   "source": [
    "office_data[office_data['Product ID'] == 'OFF-PA-10003641']"
   ]
  },
  {
   "cell_type": "code",
   "execution_count": 108,
   "id": "c5578a64",
   "metadata": {},
   "outputs": [
    {
     "data": {
      "text/plain": [
       "Region\n",
       "Central    2322\n",
       "East       2848\n",
       "South      1620\n",
       "West       3203\n",
       "Name: Product Name, dtype: int64"
      ]
     },
     "execution_count": 108,
     "metadata": {},
     "output_type": "execute_result"
    }
   ],
   "source": [
    "office_data.groupby(['Region'])['Product Name'].count()"
   ]
  },
  {
   "cell_type": "code",
   "execution_count": 113,
   "id": "c938e6ed",
   "metadata": {},
   "outputs": [
    {
     "data": {
      "text/plain": [
       "Category\n",
       "Furniture          2121\n",
       "Office Supplies    6026\n",
       "Technology         1846\n",
       "Name: Region, dtype: int64"
      ]
     },
     "execution_count": 113,
     "metadata": {},
     "output_type": "execute_result"
    }
   ],
   "source": [
    "office_data.groupby(['Category'])['Region'].count()"
   ]
  },
  {
   "cell_type": "code",
   "execution_count": 115,
   "id": "5c6e8222",
   "metadata": {},
   "outputs": [
    {
     "data": {
      "text/plain": [
       "Category\n",
       "Furniture          2121\n",
       "Office Supplies    6026\n",
       "Technology         1846\n",
       "Name: Sub-Category, dtype: int64"
      ]
     },
     "execution_count": 115,
     "metadata": {},
     "output_type": "execute_result"
    }
   ],
   "source": [
    "office_data.groupby(['Category'])['Sub-Category'].count()"
   ]
  },
  {
   "cell_type": "code",
   "execution_count": 117,
   "id": "b0f19387",
   "metadata": {},
   "outputs": [],
   "source": [
    "office_data.to_excel('New Office.xlsx')"
   ]
  },
  {
   "cell_type": "code",
   "execution_count": 123,
   "id": "74afadd1",
   "metadata": {},
   "outputs": [
    {
     "data": {
      "text/html": [
       "<div>\n",
       "<style scoped>\n",
       "    .dataframe tbody tr th:only-of-type {\n",
       "        vertical-align: middle;\n",
       "    }\n",
       "\n",
       "    .dataframe tbody tr th {\n",
       "        vertical-align: top;\n",
       "    }\n",
       "\n",
       "    .dataframe thead th {\n",
       "        text-align: right;\n",
       "    }\n",
       "</style>\n",
       "<table border=\"1\" class=\"dataframe\">\n",
       "  <thead>\n",
       "    <tr style=\"text-align: right;\">\n",
       "      <th></th>\n",
       "      <th>Sales</th>\n",
       "      <th>Quantity</th>\n",
       "      <th>Discount</th>\n",
       "      <th>Profit</th>\n",
       "    </tr>\n",
       "    <tr>\n",
       "      <th>Region</th>\n",
       "      <th></th>\n",
       "      <th></th>\n",
       "      <th></th>\n",
       "      <th></th>\n",
       "    </tr>\n",
       "  </thead>\n",
       "  <tbody>\n",
       "    <tr>\n",
       "      <th>Central</th>\n",
       "      <td>500975.9308</td>\n",
       "      <td>8776</td>\n",
       "      <td>558.34</td>\n",
       "      <td>38024.043894</td>\n",
       "    </tr>\n",
       "    <tr>\n",
       "      <th>East</th>\n",
       "      <td>678781.2400</td>\n",
       "      <td>10618</td>\n",
       "      <td>414.00</td>\n",
       "      <td>88222.774978</td>\n",
       "    </tr>\n",
       "    <tr>\n",
       "      <th>South</th>\n",
       "      <td>391721.9050</td>\n",
       "      <td>6209</td>\n",
       "      <td>238.55</td>\n",
       "      <td>45613.884606</td>\n",
       "    </tr>\n",
       "    <tr>\n",
       "      <th>West</th>\n",
       "      <td>725457.8245</td>\n",
       "      <td>12266</td>\n",
       "      <td>350.20</td>\n",
       "      <td>107331.282007</td>\n",
       "    </tr>\n",
       "  </tbody>\n",
       "</table>\n",
       "</div>"
      ],
      "text/plain": [
       "               Sales  Quantity  Discount         Profit\n",
       "Region                                                 \n",
       "Central  500975.9308      8776    558.34   38024.043894\n",
       "East     678781.2400     10618    414.00   88222.774978\n",
       "South    391721.9050      6209    238.55   45613.884606\n",
       "West     725457.8245     12266    350.20  107331.282007"
      ]
     },
     "execution_count": 123,
     "metadata": {},
     "output_type": "execute_result"
    }
   ],
   "source": [
    "office_data.groupby(['Region']).sum()"
   ]
  },
  {
   "cell_type": "code",
   "execution_count": 122,
   "id": "2b8bd034",
   "metadata": {},
   "outputs": [
    {
     "data": {
      "text/html": [
       "<div>\n",
       "<style scoped>\n",
       "    .dataframe tbody tr th:only-of-type {\n",
       "        vertical-align: middle;\n",
       "    }\n",
       "\n",
       "    .dataframe tbody tr th {\n",
       "        vertical-align: top;\n",
       "    }\n",
       "\n",
       "    .dataframe thead th {\n",
       "        text-align: right;\n",
       "    }\n",
       "</style>\n",
       "<table border=\"1\" class=\"dataframe\">\n",
       "  <thead>\n",
       "    <tr style=\"text-align: right;\">\n",
       "      <th></th>\n",
       "      <th>Sales</th>\n",
       "      <th>Quantity</th>\n",
       "      <th>Discount</th>\n",
       "      <th>Profit</th>\n",
       "    </tr>\n",
       "    <tr>\n",
       "      <th>Region</th>\n",
       "      <th></th>\n",
       "      <th></th>\n",
       "      <th></th>\n",
       "      <th></th>\n",
       "    </tr>\n",
       "  </thead>\n",
       "  <tbody>\n",
       "    <tr>\n",
       "      <th>Central</th>\n",
       "      <td>140027.9628</td>\n",
       "      <td>2740</td>\n",
       "      <td>404.04</td>\n",
       "      <td>-53675.124541</td>\n",
       "    </tr>\n",
       "    <tr>\n",
       "      <th>East</th>\n",
       "      <td>154408.6210</td>\n",
       "      <td>1949</td>\n",
       "      <td>245.30</td>\n",
       "      <td>-48894.888452</td>\n",
       "    </tr>\n",
       "    <tr>\n",
       "      <th>South</th>\n",
       "      <td>87349.3290</td>\n",
       "      <td>920</td>\n",
       "      <td>123.35</td>\n",
       "      <td>-26512.965217</td>\n",
       "    </tr>\n",
       "    <tr>\n",
       "      <th>West</th>\n",
       "      <td>70688.7930</td>\n",
       "      <td>1125</td>\n",
       "      <td>111.70</td>\n",
       "      <td>-23208.745496</td>\n",
       "    </tr>\n",
       "  </tbody>\n",
       "</table>\n",
       "</div>"
      ],
      "text/plain": [
       "               Sales  Quantity  Discount        Profit\n",
       "Region                                                \n",
       "Central  140027.9628      2740    404.04 -53675.124541\n",
       "East     154408.6210      1949    245.30 -48894.888452\n",
       "South     87349.3290       920    123.35 -26512.965217\n",
       "West      70688.7930      1125    111.70 -23208.745496"
      ]
     },
     "execution_count": 122,
     "metadata": {},
     "output_type": "execute_result"
    }
   ],
   "source": [
    "negative_profit.groupby(['Region'])[''].sum()"
   ]
  },
  {
   "cell_type": "code",
   "execution_count": 132,
   "id": "df4c25d8",
   "metadata": {},
   "outputs": [],
   "source": [
    "year_list = []\n",
    "date_list = office_data['Order Date'].tolist()\n",
    "for date in date_list:\n",
    "    new_date = date[-4:]\n",
    "    year_list.append(new_date)"
   ]
  },
  {
   "cell_type": "code",
   "execution_count": 133,
   "id": "93d68af1",
   "metadata": {},
   "outputs": [],
   "source": [
    "office_data['year'] = year_list"
   ]
  },
  {
   "cell_type": "code",
   "execution_count": 134,
   "id": "ecf71cf7",
   "metadata": {
    "scrolled": true
   },
   "outputs": [
    {
     "data": {
      "text/html": [
       "<div>\n",
       "<style scoped>\n",
       "    .dataframe tbody tr th:only-of-type {\n",
       "        vertical-align: middle;\n",
       "    }\n",
       "\n",
       "    .dataframe tbody tr th {\n",
       "        vertical-align: top;\n",
       "    }\n",
       "\n",
       "    .dataframe thead th {\n",
       "        text-align: right;\n",
       "    }\n",
       "</style>\n",
       "<table border=\"1\" class=\"dataframe\">\n",
       "  <thead>\n",
       "    <tr style=\"text-align: right;\">\n",
       "      <th></th>\n",
       "      <th>Order ID</th>\n",
       "      <th>Order Date</th>\n",
       "      <th>Ship Mode</th>\n",
       "      <th>Region</th>\n",
       "      <th>Product ID</th>\n",
       "      <th>Category</th>\n",
       "      <th>Sub-Category</th>\n",
       "      <th>Product Name</th>\n",
       "      <th>Sales</th>\n",
       "      <th>Quantity</th>\n",
       "      <th>Discount</th>\n",
       "      <th>Profit</th>\n",
       "      <th>year</th>\n",
       "    </tr>\n",
       "  </thead>\n",
       "  <tbody>\n",
       "    <tr>\n",
       "      <th>0</th>\n",
       "      <td>CA-2015-110870</td>\n",
       "      <td>12/12/2015</td>\n",
       "      <td>First Class</td>\n",
       "      <td>West</td>\n",
       "      <td>TEC-AC-10002926</td>\n",
       "      <td>Technology</td>\n",
       "      <td>Accessories</td>\n",
       "      <td>Logitech Wireless Marathon Mouse M705</td>\n",
       "      <td>299.940</td>\n",
       "      <td>6</td>\n",
       "      <td>0.0</td>\n",
       "      <td>73.078686</td>\n",
       "      <td>2015</td>\n",
       "    </tr>\n",
       "    <tr>\n",
       "      <th>1</th>\n",
       "      <td>CA-2015-110870</td>\n",
       "      <td>12/12/2015</td>\n",
       "      <td>First Class</td>\n",
       "      <td>West</td>\n",
       "      <td>OFF-SU-10001225</td>\n",
       "      <td>Office Supplies</td>\n",
       "      <td>Supplies</td>\n",
       "      <td>Staple remover</td>\n",
       "      <td>25.760</td>\n",
       "      <td>7</td>\n",
       "      <td>0.0</td>\n",
       "      <td>7.479083</td>\n",
       "      <td>2015</td>\n",
       "    </tr>\n",
       "    <tr>\n",
       "      <th>2</th>\n",
       "      <td>CA-2014-143210</td>\n",
       "      <td>01/12/2014</td>\n",
       "      <td>First Class</td>\n",
       "      <td>East</td>\n",
       "      <td>TEC-PH-10004434</td>\n",
       "      <td>Technology</td>\n",
       "      <td>Phones</td>\n",
       "      <td>Cisco IP Phone 7961G VoIP phone - Dark gray</td>\n",
       "      <td>271.900</td>\n",
       "      <td>2</td>\n",
       "      <td>0.0</td>\n",
       "      <td>67.572050</td>\n",
       "      <td>2014</td>\n",
       "    </tr>\n",
       "    <tr>\n",
       "      <th>3</th>\n",
       "      <td>CA-2014-143210</td>\n",
       "      <td>01/12/2014</td>\n",
       "      <td>First Class</td>\n",
       "      <td>East</td>\n",
       "      <td>FUR-FU-10003878</td>\n",
       "      <td>Furniture</td>\n",
       "      <td>Furnishings</td>\n",
       "      <td>Linden 10\" Round Wall Clock, Black</td>\n",
       "      <td>45.840</td>\n",
       "      <td>3</td>\n",
       "      <td>0.0</td>\n",
       "      <td>17.123753</td>\n",
       "      <td>2014</td>\n",
       "    </tr>\n",
       "    <tr>\n",
       "      <th>4</th>\n",
       "      <td>CA-2014-143210</td>\n",
       "      <td>01/12/2014</td>\n",
       "      <td>First Class</td>\n",
       "      <td>East</td>\n",
       "      <td>FUR-FU-10002268</td>\n",
       "      <td>Furniture</td>\n",
       "      <td>Furnishings</td>\n",
       "      <td>Ultra Door Push Plate</td>\n",
       "      <td>9.820</td>\n",
       "      <td>2</td>\n",
       "      <td>0.0</td>\n",
       "      <td>6.489454</td>\n",
       "      <td>2014</td>\n",
       "    </tr>\n",
       "    <tr>\n",
       "      <th>...</th>\n",
       "      <td>...</td>\n",
       "      <td>...</td>\n",
       "      <td>...</td>\n",
       "      <td>...</td>\n",
       "      <td>...</td>\n",
       "      <td>...</td>\n",
       "      <td>...</td>\n",
       "      <td>...</td>\n",
       "      <td>...</td>\n",
       "      <td>...</td>\n",
       "      <td>...</td>\n",
       "      <td>...</td>\n",
       "      <td>...</td>\n",
       "    </tr>\n",
       "    <tr>\n",
       "      <th>9988</th>\n",
       "      <td>US-2015-165743</td>\n",
       "      <td>20/11/2015</td>\n",
       "      <td>Second Class</td>\n",
       "      <td>West</td>\n",
       "      <td>OFF-BI-10001758</td>\n",
       "      <td>Office Supplies</td>\n",
       "      <td>Binders</td>\n",
       "      <td>Wilson Jones 14 Line Acrylic Coated Pressboard...</td>\n",
       "      <td>9.612</td>\n",
       "      <td>6</td>\n",
       "      <td>0.7</td>\n",
       "      <td>-7.369200</td>\n",
       "      <td>2015</td>\n",
       "    </tr>\n",
       "    <tr>\n",
       "      <th>9989</th>\n",
       "      <td>US-2017-105998</td>\n",
       "      <td>03/11/2017</td>\n",
       "      <td>First Class</td>\n",
       "      <td>West</td>\n",
       "      <td>TEC-AC-10004469</td>\n",
       "      <td>Technology</td>\n",
       "      <td>Accessories</td>\n",
       "      <td>Microsoft Sculpt Comfort Mouse</td>\n",
       "      <td>199.750</td>\n",
       "      <td>5</td>\n",
       "      <td>0.0</td>\n",
       "      <td>87.890000</td>\n",
       "      <td>2017</td>\n",
       "    </tr>\n",
       "    <tr>\n",
       "      <th>9990</th>\n",
       "      <td>US-2017-105998</td>\n",
       "      <td>03/11/2017</td>\n",
       "      <td>First Class</td>\n",
       "      <td>West</td>\n",
       "      <td>FUR-TA-10001095</td>\n",
       "      <td>Furniture</td>\n",
       "      <td>Tables</td>\n",
       "      <td>Chromcraft Round Conference Tables</td>\n",
       "      <td>1673.184</td>\n",
       "      <td>12</td>\n",
       "      <td>0.2</td>\n",
       "      <td>20.914800</td>\n",
       "      <td>2017</td>\n",
       "    </tr>\n",
       "    <tr>\n",
       "      <th>9991</th>\n",
       "      <td>US-2014-148194</td>\n",
       "      <td>04/05/2014</td>\n",
       "      <td>First Class</td>\n",
       "      <td>West</td>\n",
       "      <td>FUR-FU-10001852</td>\n",
       "      <td>Furniture</td>\n",
       "      <td>Furnishings</td>\n",
       "      <td>Eldon Regeneration Recycled Desk Accessories, ...</td>\n",
       "      <td>12.180</td>\n",
       "      <td>7</td>\n",
       "      <td>0.0</td>\n",
       "      <td>3.897600</td>\n",
       "      <td>2014</td>\n",
       "    </tr>\n",
       "    <tr>\n",
       "      <th>9992</th>\n",
       "      <td>US-2014-148194</td>\n",
       "      <td>04/05/2014</td>\n",
       "      <td>First Class</td>\n",
       "      <td>West</td>\n",
       "      <td>OFF-AP-10000696</td>\n",
       "      <td>Office Supplies</td>\n",
       "      <td>Appliances</td>\n",
       "      <td>Holmes Odor Grabber</td>\n",
       "      <td>57.680</td>\n",
       "      <td>4</td>\n",
       "      <td>0.0</td>\n",
       "      <td>19.034400</td>\n",
       "      <td>2014</td>\n",
       "    </tr>\n",
       "  </tbody>\n",
       "</table>\n",
       "<p>9993 rows × 13 columns</p>\n",
       "</div>"
      ],
      "text/plain": [
       "            Order ID  Order Date     Ship Mode Region       Product ID  \\\n",
       "0     CA-2015-110870  12/12/2015   First Class   West  TEC-AC-10002926   \n",
       "1     CA-2015-110870  12/12/2015   First Class   West  OFF-SU-10001225   \n",
       "2     CA-2014-143210  01/12/2014   First Class   East  TEC-PH-10004434   \n",
       "3     CA-2014-143210  01/12/2014   First Class   East  FUR-FU-10003878   \n",
       "4     CA-2014-143210  01/12/2014   First Class   East  FUR-FU-10002268   \n",
       "...              ...         ...           ...    ...              ...   \n",
       "9988  US-2015-165743  20/11/2015  Second Class   West  OFF-BI-10001758   \n",
       "9989  US-2017-105998  03/11/2017   First Class   West  TEC-AC-10004469   \n",
       "9990  US-2017-105998  03/11/2017   First Class   West  FUR-TA-10001095   \n",
       "9991  US-2014-148194  04/05/2014   First Class   West  FUR-FU-10001852   \n",
       "9992  US-2014-148194  04/05/2014   First Class   West  OFF-AP-10000696   \n",
       "\n",
       "             Category Sub-Category  \\\n",
       "0          Technology  Accessories   \n",
       "1     Office Supplies     Supplies   \n",
       "2          Technology       Phones   \n",
       "3           Furniture  Furnishings   \n",
       "4           Furniture  Furnishings   \n",
       "...               ...          ...   \n",
       "9988  Office Supplies      Binders   \n",
       "9989       Technology  Accessories   \n",
       "9990        Furniture       Tables   \n",
       "9991        Furniture  Furnishings   \n",
       "9992  Office Supplies   Appliances   \n",
       "\n",
       "                                           Product Name     Sales  Quantity  \\\n",
       "0                 Logitech Wireless Marathon Mouse M705   299.940         6   \n",
       "1                                        Staple remover    25.760         7   \n",
       "2           Cisco IP Phone 7961G VoIP phone - Dark gray   271.900         2   \n",
       "3                    Linden 10\" Round Wall Clock, Black    45.840         3   \n",
       "4                                 Ultra Door Push Plate     9.820         2   \n",
       "...                                                 ...       ...       ...   \n",
       "9988  Wilson Jones 14 Line Acrylic Coated Pressboard...     9.612         6   \n",
       "9989                     Microsoft Sculpt Comfort Mouse   199.750         5   \n",
       "9990                 Chromcraft Round Conference Tables  1673.184        12   \n",
       "9991  Eldon Regeneration Recycled Desk Accessories, ...    12.180         7   \n",
       "9992                                Holmes Odor Grabber    57.680         4   \n",
       "\n",
       "      Discount     Profit  year  \n",
       "0          0.0  73.078686  2015  \n",
       "1          0.0   7.479083  2015  \n",
       "2          0.0  67.572050  2014  \n",
       "3          0.0  17.123753  2014  \n",
       "4          0.0   6.489454  2014  \n",
       "...        ...        ...   ...  \n",
       "9988       0.7  -7.369200  2015  \n",
       "9989       0.0  87.890000  2017  \n",
       "9990       0.2  20.914800  2017  \n",
       "9991       0.0   3.897600  2014  \n",
       "9992       0.0  19.034400  2014  \n",
       "\n",
       "[9993 rows x 13 columns]"
      ]
     },
     "execution_count": 134,
     "metadata": {},
     "output_type": "execute_result"
    }
   ],
   "source": [
    "office_data"
   ]
  },
  {
   "cell_type": "code",
   "execution_count": 135,
   "id": "f363acba",
   "metadata": {},
   "outputs": [],
   "source": [
    "office_data.to_excel('New Office1.xlsx')"
   ]
  },
  {
   "cell_type": "code",
   "execution_count": null,
   "id": "7237ed3d",
   "metadata": {},
   "outputs": [],
   "source": []
  }
 ],
 "metadata": {
  "kernelspec": {
   "display_name": "Python 3 (ipykernel)",
   "language": "python",
   "name": "python3"
  },
  "language_info": {
   "codemirror_mode": {
    "name": "ipython",
    "version": 3
   },
   "file_extension": ".py",
   "mimetype": "text/x-python",
   "name": "python",
   "nbconvert_exporter": "python",
   "pygments_lexer": "ipython3",
   "version": "3.9.7"
  }
 },
 "nbformat": 4,
 "nbformat_minor": 5
}
